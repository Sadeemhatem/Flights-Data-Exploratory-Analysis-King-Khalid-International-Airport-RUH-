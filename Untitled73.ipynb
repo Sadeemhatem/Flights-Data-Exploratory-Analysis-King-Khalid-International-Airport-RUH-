{
  "nbformat": 4,
  "nbformat_minor": 0,
  "metadata": {
    "colab": {
      "provenance": []
    },
    "kernelspec": {
      "name": "python3",
      "display_name": "Python 3"
    },
    "language_info": {
      "name": "python"
    }
  },
  "cells": [
    {
      "cell_type": "markdown",
      "source": [
        "# Flight Data Exploratory Analysis – King Khalid International Airport (RUH)\n",
        "\n",
        "This notebook presents a comprehensive Exploratory Data Analysis (EDA) of flight operations associated with King Khalid International Airport (RUH).\n",
        "The dataset includes detailed information about airlines, aircraft, flight statuses, terminals, schedules, and destinations.\n",
        "The objective of this analysis is to understand flight distribution patterns, airline activity, terminal utilization, and time-based trends that characterize RUH’s air traffic.\n",
        "\n",
        "\n",
        "These insights lay the foundation for future stages such as flight-delay prediction, demand forecasting, or terminal resource optimization using machine learning or simulation models."
      ],
      "metadata": {
        "id": "XcSs1IAO0rUJ"
      }
    },
    {
      "cell_type": "code",
      "source": [
        "from pyspark.sql import SparkSession\n",
        "spark = SparkSession.builder \\\n",
        "    .appName(\"PySpark Data Analysis\") \\\n",
        "    .getOrCreate()"
      ],
      "metadata": {
        "id": "fgsOhlAWbzX5"
      },
      "execution_count": 3,
      "outputs": []
    },
    {
      "cell_type": "code",
      "source": [
        "df = spark.read.parquet(\"/content/flights_RUH.parquet\")\n",
        "df.show(5)"
      ],
      "metadata": {
        "colab": {
          "base_uri": "https://localhost:8080/"
        },
        "id": "xFuh05UocYEf",
        "outputId": "52b1bab6-a18e-4d20-db9a-aff9b61f61b2"
      },
      "execution_count": 4,
      "outputs": [
        {
          "output_type": "stream",
          "name": "stdout",
          "text": [
            "+-------------+---------------+------------+--------------+-----------------+------------+------------+-------+-----------+---------------+-------+--------+-------------------+-------------------+-------------------+-----------------+----------------+------------------------+------------------------+------------------------+-------------------------+--------------------------+----------------------------+\n",
            "|flight_number| aircraft.model|aircraft.reg|aircraft.modeS|     airline.name|airline.iata|airline.icao| status|flight_type|codeshareStatus|isCargo|callSign|origin_airport_name|origin_airport_icao|origin_airport_iata|movement.terminal|movement.quality|destination_airport_icao|destination_airport_iata|destination_airport_name|movement.airport.timeZone|movement.scheduledTime.utc|movement.scheduledTime.local|\n",
            "+-------------+---------------+------------+--------------+-----------------+------------+------------+-------+-----------+---------------+-------+--------+-------------------+-------------------+-------------------+-----------------+----------------+------------------------+------------------------+------------------------+-------------------------+--------------------------+----------------------------+\n",
            "|       PF 769|    Airbus A320|        NULL|          NULL|         Air Sial|          PF|        NULL|Unknown|  departure|        Unknown|  false|    NULL|             Riyadh|               OERK|                RUH|                2|         [Basic]|                    OPIS|                     ISB|               Islamabad|             Asia/Karachi|         2025-03-14 21:01Z|        2025-03-15 00:01+...|\n",
            "|       XY 333|Airbus A320 NEO|     HZ-NS35|        710DB9|           flynas|          XY|         KNE|Unknown|  departure|     IsOperator|  false|  KNE333|             Riyadh|               OERK|                RUH|                1|         [Basic]|                    VILK|                     LKO|                 Lucknow|             Asia/Kolkata|         2025-03-14 21:05Z|        2025-03-15 00:05+...|\n",
            "|       QP 568|     Boeing 737|        NULL|          NULL|Starlight Airline|          QP|         SLT|Unknown|  departure|        Unknown|  false|    NULL|             Riyadh|               OERK|                RUH|                3|         [Basic]|                    VABB|                     BOM|                  Mumbai|             Asia/Kolkata|         2025-03-14 21:05Z|        2025-03-15 00:05+...|\n",
            "|       F3 161|    Airbus A320|        NULL|          NULL|         flyadeal|          F3|         FAD|Unknown|  departure|        Unknown|  false|    NULL|             Riyadh|               OERK|                RUH|                5|         [Basic]|                    OEJN|                     JED|                  Jeddah|              Asia/Riyadh|         2025-03-14 21:10Z|        2025-03-15 00:10+...|\n",
            "|       KL 423|Airbus A330-300|        NULL|          NULL|              KLM|          KL|         KLM|Unknown|  departure|        Unknown|  false|    NULL|             Riyadh|               OERK|                RUH|                1|         [Basic]|                    OEDF|                     DMM|               Ad Dammam|              Asia/Riyadh|         2025-03-14 21:15Z|        2025-03-15 00:15+...|\n",
            "+-------------+---------------+------------+--------------+-----------------+------------+------------+-------+-----------+---------------+-------+--------+-------------------+-------------------+-------------------+-----------------+----------------+------------------------+------------------------+------------------------+-------------------------+--------------------------+----------------------------+\n",
            "only showing top 5 rows\n",
            "\n"
          ]
        }
      ]
    },
    {
      "cell_type": "code",
      "source": [
        "from pyspark.sql import functions as F\n",
        "def q(name: str):\n",
        "    return F.col(f\"`{name}`\")\n",
        "\n",
        "null_counts = df.select([\n",
        "    F.sum(F.when(q(c).isNull(), 1).otherwise(0)).alias(c)\n",
        "    for c in df.columns\n",
        "])\n",
        "null_counts.show(truncate=False)"
      ],
      "metadata": {
        "colab": {
          "base_uri": "https://localhost:8080/"
        },
        "id": "4vCaY_hhcYLq",
        "outputId": "69c66801-2c69-4cac-a08e-bee351bd6377"
      },
      "execution_count": 9,
      "outputs": [
        {
          "output_type": "stream",
          "name": "stdout",
          "text": [
            "+-------------+--------------+------------+--------------+------------+------------+------------+------+-----------+---------------+-------+--------+-------------------+-------------------+-------------------+-----------------+----------------+------------------------+------------------------+------------------------+-------------------------+--------------------------+----------------------------+\n",
            "|flight_number|aircraft.model|aircraft.reg|aircraft.modeS|airline.name|airline.iata|airline.icao|status|flight_type|codeshareStatus|isCargo|callSign|origin_airport_name|origin_airport_icao|origin_airport_iata|movement.terminal|movement.quality|destination_airport_icao|destination_airport_iata|destination_airport_name|movement.airport.timeZone|movement.scheduledTime.utc|movement.scheduledTime.local|\n",
            "+-------------+--------------+------------+--------------+------------+------------+------------+------+-----------+---------------+-------+--------+-------------------+-------------------+-------------------+-----------------+----------------+------------------------+------------------------+------------------------+-------------------------+--------------------------+----------------------------+\n",
            "|0            |186           |117074      |107977        |0           |14          |563         |0     |0          |0              |0      |108171  |0                  |0                  |0                  |850              |0               |4106                    |4106                    |0                       |4106                     |0                         |0                           |\n",
            "+-------------+--------------+------------+--------------+------------+------------+------------+------+-----------+---------------+-------+--------+-------------------+-------------------+-------------------+-----------------+----------------+------------------------+------------------------+------------------------+-------------------------+--------------------------+----------------------------+\n",
            "\n"
          ]
        }
      ]
    },
    {
      "cell_type": "code",
      "source": [
        "cols_to_drop = ['aircraft.reg', 'callSign', 'aircraft.modeS']\n",
        "df = df.drop(*cols_to_drop)"
      ],
      "metadata": {
        "id": "5SYfF0GogEqJ"
      },
      "execution_count": 11,
      "outputs": []
    },
    {
      "cell_type": "code",
      "source": [
        "for c in df.columns:\n",
        "    df = df.withColumnRenamed(c, c.replace('.', '_'))\n",
        "\n",
        "df.printSchema()"
      ],
      "metadata": {
        "colab": {
          "base_uri": "https://localhost:8080/"
        },
        "id": "vNHqj4drgEx3",
        "outputId": "1caf6c3c-d58b-45df-d4d4-8599983e16dc"
      },
      "execution_count": 13,
      "outputs": [
        {
          "output_type": "stream",
          "name": "stdout",
          "text": [
            "root\n",
            " |-- flight_number: string (nullable = true)\n",
            " |-- aircraft_model: string (nullable = true)\n",
            " |-- airline_name: string (nullable = true)\n",
            " |-- airline_iata: string (nullable = true)\n",
            " |-- airline_icao: string (nullable = true)\n",
            " |-- status: string (nullable = true)\n",
            " |-- flight_type: string (nullable = true)\n",
            " |-- codeshareStatus: string (nullable = true)\n",
            " |-- isCargo: boolean (nullable = true)\n",
            " |-- origin_airport_name: string (nullable = true)\n",
            " |-- origin_airport_icao: string (nullable = true)\n",
            " |-- origin_airport_iata: string (nullable = true)\n",
            " |-- movement_terminal: string (nullable = true)\n",
            " |-- movement_quality: array (nullable = true)\n",
            " |    |-- element: string (containsNull = true)\n",
            " |-- destination_airport_icao: string (nullable = true)\n",
            " |-- destination_airport_iata: string (nullable = true)\n",
            " |-- destination_airport_name: string (nullable = true)\n",
            " |-- movement_airport_timeZone: string (nullable = true)\n",
            " |-- movement_scheduledTime_utc: string (nullable = true)\n",
            " |-- movement_scheduledTime_local: string (nullable = true)\n",
            "\n"
          ]
        }
      ]
    },
    {
      "cell_type": "code",
      "source": [
        "cols_to_drop = ['aircraft_reg', 'callSign', 'aircraft_modeS']\n",
        "df = df.drop(*cols_to_drop)"
      ],
      "metadata": {
        "id": "cKoDriNIgc4K"
      },
      "execution_count": 14,
      "outputs": []
    },
    {
      "cell_type": "code",
      "source": [
        "fill_values = {\n",
        "    'airline_icao': 'Unknown',\n",
        "    'aircraft_model': 'Unknown',\n",
        "    'airline_iata': 'Unknown',\n",
        "    'movement_terminal': 'Unknown',\n",
        "    'destination_airport_icao': 'Unknown',\n",
        "    'destination_airport_iata': 'Unknown',\n",
        "    'movement_airport_timeZone': 'Unknown',\n",
        "}\n",
        "df = df.fillna(fill_values)"
      ],
      "metadata": {
        "id": "jSyHmGtWgfaN"
      },
      "execution_count": 15,
      "outputs": []
    },
    {
      "cell_type": "markdown",
      "source": [
        "#  total number of flights and distinct airlines"
      ],
      "metadata": {
        "id": "sywEcYCKldSt"
      }
    },
    {
      "cell_type": "code",
      "source": [
        "df.selectExpr(\"count(*) as total_flights\",\n",
        "              \"count(distinct airline_name) as unique_airlines\").show()"
      ],
      "metadata": {
        "colab": {
          "base_uri": "https://localhost:8080/"
        },
        "id": "b00Vp4_9lXg9",
        "outputId": "5998e873-65db-4c76-89a8-b3931cb0932f"
      },
      "execution_count": 28,
      "outputs": [
        {
          "output_type": "stream",
          "name": "stdout",
          "text": [
            "+-------------+---------------+\n",
            "|total_flights|unique_airlines|\n",
            "+-------------+---------------+\n",
            "|       153308|             68|\n",
            "+-------------+---------------+\n",
            "\n"
          ]
        }
      ]
    },
    {
      "cell_type": "markdown",
      "source": [
        "#  number of airlines serving each destination"
      ],
      "metadata": {
        "id": "M-Cbn65B1bW0"
      }
    },
    {
      "cell_type": "code",
      "source": [
        "\n",
        "df.groupBy(\"destination_airport_name\").agg(F.countDistinct(\"airline_name\").alias(\"num_airlines\")).orderBy(F.col(\"num_airlines\").desc()).show(10, truncate=False)"
      ],
      "metadata": {
        "colab": {
          "base_uri": "https://localhost:8080/"
        },
        "id": "2HYMO7W8sVn2",
        "outputId": "2a814cd7-6a91-43dd-8af2-9476b24aba56"
      },
      "execution_count": 41,
      "outputs": [
        {
          "output_type": "stream",
          "name": "stdout",
          "text": [
            "+------------------------+------------+\n",
            "|destination_airport_name|num_airlines|\n",
            "+------------------------+------------+\n",
            "|Cairo                   |8           |\n",
            "|Islamabad               |7           |\n",
            "|Istanbul                |6           |\n",
            "|Mumbai                  |5           |\n",
            "|Lahore                  |5           |\n",
            "|Dubai                   |5           |\n",
            "|Ad Dammam               |5           |\n",
            "|Jeddah                  |4           |\n",
            "|Amman                   |4           |\n",
            "|Kuwait City             |4           |\n",
            "+------------------------+------------+\n",
            "only showing top 10 rows\n",
            "\n"
          ]
        }
      ]
    },
    {
      "cell_type": "markdown",
      "source": [
        "# average daily flights per airline"
      ],
      "metadata": {
        "id": "viKvtkdhlEQD"
      }
    },
    {
      "cell_type": "code",
      "source": [
        "(df.groupBy(\"airline_name\", \"departure_date\")\n",
        "   .count()\n",
        "   .groupBy(\"airline_name\")\n",
        "   .agg(F.avg(\"count\").alias(\"avg_daily_flights\"))\n",
        "   .orderBy(F.col(\"avg_daily_flights\").desc())\n",
        ").show(10, truncate=False)"
      ],
      "metadata": {
        "colab": {
          "base_uri": "https://localhost:8080/"
        },
        "id": "OvQBPYiVk_cg",
        "outputId": "ce51d715-8191-407d-cbd5-a26f85a11463"
      },
      "execution_count": 39,
      "outputs": [
        {
          "output_type": "stream",
          "name": "stdout",
          "text": [
            "+-------------+------------------+\n",
            "|airline_name |avg_daily_flights |\n",
            "+-------------+------------------+\n",
            "|Saudi Arabian|288.5592417061611 |\n",
            "|flynas       |160.82938388625593|\n",
            "|flyadeal     |117.70142180094787|\n",
            "|Gulf Air     |10.466666666666667|\n",
            "|flydubai     |9.75829383886256  |\n",
            "|EgyptAir     |8.942857142857143 |\n",
            "|Qatar        |8.585714285714285 |\n",
            "|Etihad       |7.328571428571428 |\n",
            "|Emirates     |6.469194312796208 |\n",
            "|Turkish      |5.971563981042654 |\n",
            "+-------------+------------------+\n",
            "only showing top 10 rows\n",
            "\n"
          ]
        }
      ]
    },
    {
      "cell_type": "markdown",
      "source": [
        "#  busiest day overall"
      ],
      "metadata": {
        "id": "0dKRjquLnbzA"
      }
    },
    {
      "cell_type": "code",
      "source": [
        "(df.groupBy(\"departure_date\")\n",
        "   .agg(F.count(\"*\").alias(\"num_flights\"))\n",
        "   .orderBy(F.col(\"num_flights\").desc())\n",
        "   .limit(1)).show()"
      ],
      "metadata": {
        "colab": {
          "base_uri": "https://localhost:8080/"
        },
        "id": "bpjXM6xenVqt",
        "outputId": "fd240e22-e8af-4fb4-9510-6bc2561ba5cb"
      },
      "execution_count": 34,
      "outputs": [
        {
          "output_type": "stream",
          "name": "stdout",
          "text": [
            "+--------------+-----------+\n",
            "|departure_date|num_flights|\n",
            "+--------------+-----------+\n",
            "|    2025-08-11|        814|\n",
            "+--------------+-----------+\n",
            "\n"
          ]
        }
      ]
    },
    {
      "cell_type": "markdown",
      "source": [
        "# busiest destination-airline combinations\n"
      ],
      "metadata": {
        "id": "yVVprksbmnuK"
      }
    },
    {
      "cell_type": "code",
      "source": [
        "df.groupBy(\"airline_name\",\"destination_airport_name\").count().orderBy(F.col(\"count\").desc()).show(15, truncate=False)"
      ],
      "metadata": {
        "colab": {
          "base_uri": "https://localhost:8080/"
        },
        "id": "zENn5HekmkAB",
        "outputId": "10e870bc-287a-461e-dc9a-abb8fa19cb99"
      },
      "execution_count": 30,
      "outputs": [
        {
          "output_type": "stream",
          "name": "stdout",
          "text": [
            "+-------------+------------------------+-----+\n",
            "|airline_name |destination_airport_name|count|\n",
            "+-------------+------------------------+-----+\n",
            "|Saudi Arabian|Jeddah                  |10915|\n",
            "|flyadeal     |Jeddah                  |9184 |\n",
            "|flynas       |Jeddah                  |7833 |\n",
            "|Saudi Arabian|Ad Dammam               |4556 |\n",
            "|flynas       |Dubai                   |3385 |\n",
            "|Saudi Arabian|Abha                    |3365 |\n",
            "|Saudi Arabian|Dubai                   |3359 |\n",
            "|flyadeal     |Abha                    |3281 |\n",
            "|Saudi Arabian|Medina                  |3184 |\n",
            "|Saudi Arabian|Jazan                   |3056 |\n",
            "|flynas       |Cairo                   |2882 |\n",
            "|flynas       |Abha                    |2397 |\n",
            "|Saudi Arabian|Tabuk                   |2395 |\n",
            "|Gulf Air     |Manama                  |2198 |\n",
            "|flyadeal     |Dubai                   |2165 |\n",
            "+-------------+------------------------+-----+\n",
            "only showing top 15 rows\n",
            "\n"
          ]
        }
      ]
    },
    {
      "cell_type": "markdown",
      "source": [
        "# Top 10 most frequent routes (origin → destination)"
      ],
      "metadata": {
        "id": "I9j35TNmqobE"
      }
    },
    {
      "cell_type": "code",
      "source": [
        "df.groupBy(\"origin_airport_name\",\"destination_airport_name\").count().orderBy(F.col(\"count\").desc()).show(10, truncate=False)"
      ],
      "metadata": {
        "colab": {
          "base_uri": "https://localhost:8080/"
        },
        "id": "laCWoHhWqgVT",
        "outputId": "4137a674-ccd0-449f-bbc8-4e5dbfd66763"
      },
      "execution_count": 40,
      "outputs": [
        {
          "output_type": "stream",
          "name": "stdout",
          "text": [
            "+-------------------+------------------------+-----+\n",
            "|origin_airport_name|destination_airport_name|count|\n",
            "+-------------------+------------------------+-----+\n",
            "|Riyadh             |Jeddah                  |27938|\n",
            "|Riyadh             |Dubai                   |12333|\n",
            "|Riyadh             |Cairo                   |10003|\n",
            "|Riyadh             |Abha                    |9043 |\n",
            "|Riyadh             |Ad Dammam               |7393 |\n",
            "|Riyadh             |Medina                  |6563 |\n",
            "|Riyadh             |Jazan                   |5196 |\n",
            "|Riyadh             |Tabuk                   |4295 |\n",
            "|Riyadh             |Istanbul                |4083 |\n",
            "|Riyadh             |Amman                   |3325 |\n",
            "+-------------------+------------------------+-----+\n",
            "only showing top 10 rows\n",
            "\n"
          ]
        }
      ]
    },
    {
      "cell_type": "markdown",
      "source": [
        "# What are the top 10 airlines by number of flights?"
      ],
      "metadata": {
        "id": "OL57cLqfiOor"
      }
    },
    {
      "cell_type": "code",
      "source": [
        "from pyspark.sql import functions as F\n",
        "top_airlines = (df.groupBy(\"airline_name\")\n",
        "                  .count()\n",
        "                  .orderBy(F.col(\"count\").desc()))\n",
        "top_airlines.show(10, truncate=False)"
      ],
      "metadata": {
        "colab": {
          "base_uri": "https://localhost:8080/"
        },
        "id": "YDczekPUg6Th",
        "outputId": "fbb79d44-9166-4d63-93a5-572c69101920"
      },
      "execution_count": 17,
      "outputs": [
        {
          "output_type": "stream",
          "name": "stdout",
          "text": [
            "+-------------+-----+\n",
            "|airline_name |count|\n",
            "+-------------+-----+\n",
            "|Saudi Arabian|60886|\n",
            "|flynas       |33935|\n",
            "|flyadeal     |24835|\n",
            "|Gulf Air     |2198 |\n",
            "|flydubai     |2059 |\n",
            "|EgyptAir     |1878 |\n",
            "|Qatar        |1803 |\n",
            "|Etihad       |1539 |\n",
            "|Emirates     |1365 |\n",
            "|Turkish      |1260 |\n",
            "+-------------+-----+\n",
            "only showing top 10 rows\n",
            "\n"
          ]
        }
      ]
    },
    {
      "cell_type": "markdown",
      "source": [
        "# What are the most common flight statuses?\n"
      ],
      "metadata": {
        "id": "7rLfcd2HiMqD"
      }
    },
    {
      "cell_type": "code",
      "source": [
        "df.groupBy(\"status\").count().orderBy(F.col(\"count\").desc()).show()"
      ],
      "metadata": {
        "colab": {
          "base_uri": "https://localhost:8080/"
        },
        "id": "Uu4SDxBLg6XC",
        "outputId": "5e2ca4d2-5d74-4978-845c-1779d12c9013"
      },
      "execution_count": 18,
      "outputs": [
        {
          "output_type": "stream",
          "name": "stdout",
          "text": [
            "+-----------------+------+\n",
            "|           status| count|\n",
            "+-----------------+------+\n",
            "|          Unknown|128618|\n",
            "|         Expected| 13059|\n",
            "|         Departed| 11520|\n",
            "|         Canceled|    78|\n",
            "|CanceledUncertain|    33|\n",
            "+-----------------+------+\n",
            "\n"
          ]
        }
      ]
    },
    {
      "cell_type": "markdown",
      "source": [
        "# Which are the top 10 destination airports?"
      ],
      "metadata": {
        "id": "XhTs4a1ZipNC"
      }
    },
    {
      "cell_type": "code",
      "source": [
        "df.groupBy(\"destination_airport_name\").count().orderBy(F.col(\"count\").desc()).show(10, truncate=False)"
      ],
      "metadata": {
        "colab": {
          "base_uri": "https://localhost:8080/"
        },
        "id": "zAf2MFH-g6cw",
        "outputId": "463f3ff8-5100-47bb-a685-6cc9559cfb53"
      },
      "execution_count": 20,
      "outputs": [
        {
          "output_type": "stream",
          "name": "stdout",
          "text": [
            "+------------------------+-----+\n",
            "|destination_airport_name|count|\n",
            "+------------------------+-----+\n",
            "|Jeddah                  |27938|\n",
            "|Dubai                   |12333|\n",
            "|Cairo                   |10003|\n",
            "|Abha                    |9043 |\n",
            "|Ad Dammam               |7393 |\n",
            "|Medina                  |6563 |\n",
            "|Jazan                   |5196 |\n",
            "|Tabuk                   |4295 |\n",
            "|Istanbul                |4083 |\n",
            "|Amman                   |3325 |\n",
            "+------------------------+-----+\n",
            "only showing top 10 rows\n",
            "\n"
          ]
        }
      ]
    },
    {
      "cell_type": "markdown",
      "source": [
        "# What’s the daily flight volume trend?"
      ],
      "metadata": {
        "id": "J2rvleHajHMC"
      }
    },
    {
      "cell_type": "code",
      "source": [
        "from pyspark.sql.functions import to_date\n",
        "\n",
        "df = df.withColumn(\"departure_date\", to_date(col(\"movement_scheduledTime_utc\")))\n",
        "daily_flights = (df.groupBy(\"departure_date\")\n",
        "                   .agg(F.count(\"*\").alias(\"num_flights\"))\n",
        "                   .orderBy(\"departure_date\"))\n",
        "daily_flights.show(10, truncate=False)"
      ],
      "metadata": {
        "colab": {
          "base_uri": "https://localhost:8080/"
        },
        "id": "pu2vz2mvjA7c",
        "outputId": "ba844332-5b4a-47ea-eeea-caf89545db62"
      },
      "execution_count": 22,
      "outputs": [
        {
          "output_type": "stream",
          "name": "stdout",
          "text": [
            "+--------------+-----------+\n",
            "|departure_date|num_flights|\n",
            "+--------------+-----------+\n",
            "|2025-03-14    |69         |\n",
            "|2025-03-15    |600        |\n",
            "|2025-03-16    |566        |\n",
            "|2025-03-17    |597        |\n",
            "|2025-03-18    |430        |\n",
            "|2025-03-19    |599        |\n",
            "|2025-03-20    |644        |\n",
            "|2025-03-21    |631        |\n",
            "|2025-03-22    |664        |\n",
            "|2025-03-23    |609        |\n",
            "+--------------+-----------+\n",
            "only showing top 10 rows\n",
            "\n"
          ]
        }
      ]
    },
    {
      "cell_type": "markdown",
      "source": [
        "# Which airlines fly to the most destinations?"
      ],
      "metadata": {
        "id": "2ZZpWlgDjSRi"
      }
    },
    {
      "cell_type": "code",
      "source": [
        "unique_dest = (df.groupBy(\"airline_name\")\n",
        "                 .agg(F.countDistinct(\"destination_airport_name\").alias(\"unique_destinations\"))\n",
        "                 .orderBy(F.col(\"unique_destinations\").desc()))\n",
        "unique_dest.show(10, truncate=False)"
      ],
      "metadata": {
        "colab": {
          "base_uri": "https://localhost:8080/"
        },
        "id": "gepVcaTdjJqH",
        "outputId": "fc679627-17f4-4ce0-a33d-318bcc238fac"
      },
      "execution_count": 23,
      "outputs": [
        {
          "output_type": "stream",
          "name": "stdout",
          "text": [
            "+----------------------+-------------------+\n",
            "|airline_name          |unique_destinations|\n",
            "+----------------------+-------------------+\n",
            "|Saudi Arabian         |77                 |\n",
            "|flynas                |60                 |\n",
            "|flyadeal              |27                 |\n",
            "|Air India Express     |7                  |\n",
            "|Unknown/Private owner |5                  |\n",
            "|Pakistan International|5                  |\n",
            "|EgyptAir              |4                  |\n",
            "|IndiGo                |4                  |\n",
            "|Air India             |3                  |\n",
            "|China Southern        |3                  |\n",
            "+----------------------+-------------------+\n",
            "only showing top 10 rows\n",
            "\n"
          ]
        }
      ]
    },
    {
      "cell_type": "markdown",
      "source": [
        "# How many terminals are used at RUH?"
      ],
      "metadata": {
        "id": "x8EiuYRCjRVZ"
      }
    },
    {
      "cell_type": "code",
      "source": [
        "df.groupBy(\"movement_terminal\").count().orderBy(F.col(\"count\").desc()).show()"
      ],
      "metadata": {
        "colab": {
          "base_uri": "https://localhost:8080/"
        },
        "id": "ZMObiMu5jJ2W",
        "outputId": "0099bc4d-5a0f-4c6e-c350-9b19bdcb1710"
      },
      "execution_count": 24,
      "outputs": [
        {
          "output_type": "stream",
          "name": "stdout",
          "text": [
            "+-----------------+-----+\n",
            "|movement_terminal|count|\n",
            "+-----------------+-----+\n",
            "|                5|80729|\n",
            "|                1|23420|\n",
            "|                3|22415|\n",
            "|                4|21892|\n",
            "|                2| 4002|\n",
            "|          Unknown|  850|\n",
            "+-----------------+-----+\n",
            "\n"
          ]
        }
      ]
    },
    {
      "cell_type": "markdown",
      "source": [
        "# average daily flights per airline\n",
        "\n"
      ],
      "metadata": {
        "id": "Kkr44sI5plgS"
      }
    },
    {
      "cell_type": "code",
      "source": [
        "(df.groupBy(\"airline_name\", \"departure_date\")\n",
        "   .count()\n",
        "   .groupBy(\"airline_name\")\n",
        "   .agg(F.avg(\"count\").alias(\"avg_daily_flights\"))\n",
        "   .orderBy(F.col(\"avg_daily_flights\").desc())\n",
        ").show(10, truncate=False)"
      ],
      "metadata": {
        "colab": {
          "base_uri": "https://localhost:8080/"
        },
        "id": "EyL63UtimtpM",
        "outputId": "e00f67d4-25f9-4214-d089-699ab0880db9"
      },
      "execution_count": 38,
      "outputs": [
        {
          "output_type": "stream",
          "name": "stdout",
          "text": [
            "+-------------+------------------+\n",
            "|airline_name |avg_daily_flights |\n",
            "+-------------+------------------+\n",
            "|Saudi Arabian|288.5592417061611 |\n",
            "|flynas       |160.82938388625593|\n",
            "|flyadeal     |117.70142180094787|\n",
            "|Gulf Air     |10.466666666666667|\n",
            "|flydubai     |9.75829383886256  |\n",
            "|EgyptAir     |8.942857142857143 |\n",
            "|Qatar        |8.585714285714285 |\n",
            "|Etihad       |7.328571428571428 |\n",
            "|Emirates     |6.469194312796208 |\n",
            "|Turkish      |5.971563981042654 |\n",
            "+-------------+------------------+\n",
            "only showing top 10 rows\n",
            "\n"
          ]
        }
      ]
    },
    {
      "cell_type": "markdown",
      "source": [
        "# Number of Airlines Serving Each Destination"
      ],
      "metadata": {
        "id": "_8Nlo3no1rTr"
      }
    },
    {
      "cell_type": "code",
      "source": [
        "import plotly.express as px\n",
        "from pyspark.sql import functions as F\n",
        "\n",
        "dest_airlines = (\n",
        "    df.groupBy(\"destination_airport_name\")\n",
        "      .agg(F.countDistinct(\"airline_name\").alias(\"num_airlines\"))\n",
        "      .orderBy(F.col(\"num_airlines\").desc())\n",
        ")\n",
        "dest_airlines_pd = dest_airlines.limit(20).toPandas()\n",
        "fig = px.bar(\n",
        "    dest_airlines_pd,\n",
        "    x=\"destination_airport_name\",\n",
        "    y=\"num_airlines\",\n",
        "    title=\"Number of Airlines Serving Each Destination\",\n",
        "    color=\"num_airlines\",\n",
        "    color_continuous_scale=\"Blues\",\n",
        "    text=\"num_airlines\"\n",
        ")\n",
        "fig.update_traces(textposition=\"outside\")\n",
        "fig.update_layout(\n",
        "    xaxis_title=\"Destination Airport\",\n",
        "    yaxis_title=\"Number of Airlines\",\n",
        "    xaxis_tickangle=-45,\n",
        "    template=\"plotly_white\",\n",
        "    title_font=dict(size=18, family=\"Arial\", color=\"black\"),\n",
        "    margin=dict(l=40, r=40, t=60, b=120)\n",
        ")\n",
        "\n",
        "fig.show()"
      ],
      "metadata": {
        "colab": {
          "base_uri": "https://localhost:8080/",
          "height": 542
        },
        "id": "ZCUbNq3mmtro",
        "outputId": "64ddff87-5ad3-43b4-f04b-68452d5bcf63"
      },
      "execution_count": 42,
      "outputs": [
        {
          "output_type": "display_data",
          "data": {
            "text/html": [
              "<html>\n",
              "<head><meta charset=\"utf-8\" /></head>\n",
              "<body>\n",
              "    <div>            <script src=\"https://cdnjs.cloudflare.com/ajax/libs/mathjax/2.7.5/MathJax.js?config=TeX-AMS-MML_SVG\"></script><script type=\"text/javascript\">if (window.MathJax && window.MathJax.Hub && window.MathJax.Hub.Config) {window.MathJax.Hub.Config({SVG: {font: \"STIX-Web\"}});}</script>                <script type=\"text/javascript\">window.PlotlyConfig = {MathJaxConfig: 'local'};</script>\n",
              "        <script charset=\"utf-8\" src=\"https://cdn.plot.ly/plotly-2.35.2.min.js\"></script>                <div id=\"d66f5260-c45c-480e-9f81-7b31f60555c3\" class=\"plotly-graph-div\" style=\"height:525px; width:100%;\"></div>            <script type=\"text/javascript\">                                    window.PLOTLYENV=window.PLOTLYENV || {};                                    if (document.getElementById(\"d66f5260-c45c-480e-9f81-7b31f60555c3\")) {                    Plotly.newPlot(                        \"d66f5260-c45c-480e-9f81-7b31f60555c3\",                        [{\"alignmentgroup\":\"True\",\"hovertemplate\":\"destination_airport_name=%{x}\\u003cbr\\u003enum_airlines=%{marker.color}\\u003cextra\\u003e\\u003c\\u002fextra\\u003e\",\"legendgroup\":\"\",\"marker\":{\"color\":[8,7,6,5,5,5,5,4,4,4,4,4,4,4,4,4,4,3,3,3],\"coloraxis\":\"coloraxis\",\"pattern\":{\"shape\":\"\"}},\"name\":\"\",\"offsetgroup\":\"\",\"orientation\":\"v\",\"showlegend\":false,\"text\":[8.0,7.0,6.0,5.0,5.0,5.0,5.0,4.0,4.0,4.0,4.0,4.0,4.0,4.0,4.0,4.0,4.0,3.0,3.0,3.0],\"textposition\":\"outside\",\"x\":[\"Cairo\",\"Islamabad\",\"Istanbul\",\"Mumbai\",\"Dubai\",\"Lahore\",\"Ad Dammam\",\"Washington\",\"Jeddah\",\"Peshawar\",\"Kuwait City\",\"Abu Dhabi Island and Internal Islands City\",\"Amman\",\"Sharm el Sheikh\",\"Doha\",\"Deli\",\"New Delhi\",\"Colombo\",\"Baku\",\"Karachi\"],\"xaxis\":\"x\",\"y\":[8,7,6,5,5,5,5,4,4,4,4,4,4,4,4,4,4,3,3,3],\"yaxis\":\"y\",\"type\":\"bar\"}],                        {\"template\":{\"data\":{\"barpolar\":[{\"marker\":{\"line\":{\"color\":\"white\",\"width\":0.5},\"pattern\":{\"fillmode\":\"overlay\",\"size\":10,\"solidity\":0.2}},\"type\":\"barpolar\"}],\"bar\":[{\"error_x\":{\"color\":\"#2a3f5f\"},\"error_y\":{\"color\":\"#2a3f5f\"},\"marker\":{\"line\":{\"color\":\"white\",\"width\":0.5},\"pattern\":{\"fillmode\":\"overlay\",\"size\":10,\"solidity\":0.2}},\"type\":\"bar\"}],\"carpet\":[{\"aaxis\":{\"endlinecolor\":\"#2a3f5f\",\"gridcolor\":\"#C8D4E3\",\"linecolor\":\"#C8D4E3\",\"minorgridcolor\":\"#C8D4E3\",\"startlinecolor\":\"#2a3f5f\"},\"baxis\":{\"endlinecolor\":\"#2a3f5f\",\"gridcolor\":\"#C8D4E3\",\"linecolor\":\"#C8D4E3\",\"minorgridcolor\":\"#C8D4E3\",\"startlinecolor\":\"#2a3f5f\"},\"type\":\"carpet\"}],\"choropleth\":[{\"colorbar\":{\"outlinewidth\":0,\"ticks\":\"\"},\"type\":\"choropleth\"}],\"contourcarpet\":[{\"colorbar\":{\"outlinewidth\":0,\"ticks\":\"\"},\"type\":\"contourcarpet\"}],\"contour\":[{\"colorbar\":{\"outlinewidth\":0,\"ticks\":\"\"},\"colorscale\":[[0.0,\"#0d0887\"],[0.1111111111111111,\"#46039f\"],[0.2222222222222222,\"#7201a8\"],[0.3333333333333333,\"#9c179e\"],[0.4444444444444444,\"#bd3786\"],[0.5555555555555556,\"#d8576b\"],[0.6666666666666666,\"#ed7953\"],[0.7777777777777778,\"#fb9f3a\"],[0.8888888888888888,\"#fdca26\"],[1.0,\"#f0f921\"]],\"type\":\"contour\"}],\"heatmapgl\":[{\"colorbar\":{\"outlinewidth\":0,\"ticks\":\"\"},\"colorscale\":[[0.0,\"#0d0887\"],[0.1111111111111111,\"#46039f\"],[0.2222222222222222,\"#7201a8\"],[0.3333333333333333,\"#9c179e\"],[0.4444444444444444,\"#bd3786\"],[0.5555555555555556,\"#d8576b\"],[0.6666666666666666,\"#ed7953\"],[0.7777777777777778,\"#fb9f3a\"],[0.8888888888888888,\"#fdca26\"],[1.0,\"#f0f921\"]],\"type\":\"heatmapgl\"}],\"heatmap\":[{\"colorbar\":{\"outlinewidth\":0,\"ticks\":\"\"},\"colorscale\":[[0.0,\"#0d0887\"],[0.1111111111111111,\"#46039f\"],[0.2222222222222222,\"#7201a8\"],[0.3333333333333333,\"#9c179e\"],[0.4444444444444444,\"#bd3786\"],[0.5555555555555556,\"#d8576b\"],[0.6666666666666666,\"#ed7953\"],[0.7777777777777778,\"#fb9f3a\"],[0.8888888888888888,\"#fdca26\"],[1.0,\"#f0f921\"]],\"type\":\"heatmap\"}],\"histogram2dcontour\":[{\"colorbar\":{\"outlinewidth\":0,\"ticks\":\"\"},\"colorscale\":[[0.0,\"#0d0887\"],[0.1111111111111111,\"#46039f\"],[0.2222222222222222,\"#7201a8\"],[0.3333333333333333,\"#9c179e\"],[0.4444444444444444,\"#bd3786\"],[0.5555555555555556,\"#d8576b\"],[0.6666666666666666,\"#ed7953\"],[0.7777777777777778,\"#fb9f3a\"],[0.8888888888888888,\"#fdca26\"],[1.0,\"#f0f921\"]],\"type\":\"histogram2dcontour\"}],\"histogram2d\":[{\"colorbar\":{\"outlinewidth\":0,\"ticks\":\"\"},\"colorscale\":[[0.0,\"#0d0887\"],[0.1111111111111111,\"#46039f\"],[0.2222222222222222,\"#7201a8\"],[0.3333333333333333,\"#9c179e\"],[0.4444444444444444,\"#bd3786\"],[0.5555555555555556,\"#d8576b\"],[0.6666666666666666,\"#ed7953\"],[0.7777777777777778,\"#fb9f3a\"],[0.8888888888888888,\"#fdca26\"],[1.0,\"#f0f921\"]],\"type\":\"histogram2d\"}],\"histogram\":[{\"marker\":{\"pattern\":{\"fillmode\":\"overlay\",\"size\":10,\"solidity\":0.2}},\"type\":\"histogram\"}],\"mesh3d\":[{\"colorbar\":{\"outlinewidth\":0,\"ticks\":\"\"},\"type\":\"mesh3d\"}],\"parcoords\":[{\"line\":{\"colorbar\":{\"outlinewidth\":0,\"ticks\":\"\"}},\"type\":\"parcoords\"}],\"pie\":[{\"automargin\":true,\"type\":\"pie\"}],\"scatter3d\":[{\"line\":{\"colorbar\":{\"outlinewidth\":0,\"ticks\":\"\"}},\"marker\":{\"colorbar\":{\"outlinewidth\":0,\"ticks\":\"\"}},\"type\":\"scatter3d\"}],\"scattercarpet\":[{\"marker\":{\"colorbar\":{\"outlinewidth\":0,\"ticks\":\"\"}},\"type\":\"scattercarpet\"}],\"scattergeo\":[{\"marker\":{\"colorbar\":{\"outlinewidth\":0,\"ticks\":\"\"}},\"type\":\"scattergeo\"}],\"scattergl\":[{\"marker\":{\"colorbar\":{\"outlinewidth\":0,\"ticks\":\"\"}},\"type\":\"scattergl\"}],\"scattermapbox\":[{\"marker\":{\"colorbar\":{\"outlinewidth\":0,\"ticks\":\"\"}},\"type\":\"scattermapbox\"}],\"scatterpolargl\":[{\"marker\":{\"colorbar\":{\"outlinewidth\":0,\"ticks\":\"\"}},\"type\":\"scatterpolargl\"}],\"scatterpolar\":[{\"marker\":{\"colorbar\":{\"outlinewidth\":0,\"ticks\":\"\"}},\"type\":\"scatterpolar\"}],\"scatter\":[{\"fillpattern\":{\"fillmode\":\"overlay\",\"size\":10,\"solidity\":0.2},\"type\":\"scatter\"}],\"scatterternary\":[{\"marker\":{\"colorbar\":{\"outlinewidth\":0,\"ticks\":\"\"}},\"type\":\"scatterternary\"}],\"surface\":[{\"colorbar\":{\"outlinewidth\":0,\"ticks\":\"\"},\"colorscale\":[[0.0,\"#0d0887\"],[0.1111111111111111,\"#46039f\"],[0.2222222222222222,\"#7201a8\"],[0.3333333333333333,\"#9c179e\"],[0.4444444444444444,\"#bd3786\"],[0.5555555555555556,\"#d8576b\"],[0.6666666666666666,\"#ed7953\"],[0.7777777777777778,\"#fb9f3a\"],[0.8888888888888888,\"#fdca26\"],[1.0,\"#f0f921\"]],\"type\":\"surface\"}],\"table\":[{\"cells\":{\"fill\":{\"color\":\"#EBF0F8\"},\"line\":{\"color\":\"white\"}},\"header\":{\"fill\":{\"color\":\"#C8D4E3\"},\"line\":{\"color\":\"white\"}},\"type\":\"table\"}]},\"layout\":{\"annotationdefaults\":{\"arrowcolor\":\"#2a3f5f\",\"arrowhead\":0,\"arrowwidth\":1},\"autotypenumbers\":\"strict\",\"coloraxis\":{\"colorbar\":{\"outlinewidth\":0,\"ticks\":\"\"}},\"colorscale\":{\"diverging\":[[0,\"#8e0152\"],[0.1,\"#c51b7d\"],[0.2,\"#de77ae\"],[0.3,\"#f1b6da\"],[0.4,\"#fde0ef\"],[0.5,\"#f7f7f7\"],[0.6,\"#e6f5d0\"],[0.7,\"#b8e186\"],[0.8,\"#7fbc41\"],[0.9,\"#4d9221\"],[1,\"#276419\"]],\"sequential\":[[0.0,\"#0d0887\"],[0.1111111111111111,\"#46039f\"],[0.2222222222222222,\"#7201a8\"],[0.3333333333333333,\"#9c179e\"],[0.4444444444444444,\"#bd3786\"],[0.5555555555555556,\"#d8576b\"],[0.6666666666666666,\"#ed7953\"],[0.7777777777777778,\"#fb9f3a\"],[0.8888888888888888,\"#fdca26\"],[1.0,\"#f0f921\"]],\"sequentialminus\":[[0.0,\"#0d0887\"],[0.1111111111111111,\"#46039f\"],[0.2222222222222222,\"#7201a8\"],[0.3333333333333333,\"#9c179e\"],[0.4444444444444444,\"#bd3786\"],[0.5555555555555556,\"#d8576b\"],[0.6666666666666666,\"#ed7953\"],[0.7777777777777778,\"#fb9f3a\"],[0.8888888888888888,\"#fdca26\"],[1.0,\"#f0f921\"]]},\"colorway\":[\"#636efa\",\"#EF553B\",\"#00cc96\",\"#ab63fa\",\"#FFA15A\",\"#19d3f3\",\"#FF6692\",\"#B6E880\",\"#FF97FF\",\"#FECB52\"],\"font\":{\"color\":\"#2a3f5f\"},\"geo\":{\"bgcolor\":\"white\",\"lakecolor\":\"white\",\"landcolor\":\"white\",\"showlakes\":true,\"showland\":true,\"subunitcolor\":\"#C8D4E3\"},\"hoverlabel\":{\"align\":\"left\"},\"hovermode\":\"closest\",\"mapbox\":{\"style\":\"light\"},\"paper_bgcolor\":\"white\",\"plot_bgcolor\":\"white\",\"polar\":{\"angularaxis\":{\"gridcolor\":\"#EBF0F8\",\"linecolor\":\"#EBF0F8\",\"ticks\":\"\"},\"bgcolor\":\"white\",\"radialaxis\":{\"gridcolor\":\"#EBF0F8\",\"linecolor\":\"#EBF0F8\",\"ticks\":\"\"}},\"scene\":{\"xaxis\":{\"backgroundcolor\":\"white\",\"gridcolor\":\"#DFE8F3\",\"gridwidth\":2,\"linecolor\":\"#EBF0F8\",\"showbackground\":true,\"ticks\":\"\",\"zerolinecolor\":\"#EBF0F8\"},\"yaxis\":{\"backgroundcolor\":\"white\",\"gridcolor\":\"#DFE8F3\",\"gridwidth\":2,\"linecolor\":\"#EBF0F8\",\"showbackground\":true,\"ticks\":\"\",\"zerolinecolor\":\"#EBF0F8\"},\"zaxis\":{\"backgroundcolor\":\"white\",\"gridcolor\":\"#DFE8F3\",\"gridwidth\":2,\"linecolor\":\"#EBF0F8\",\"showbackground\":true,\"ticks\":\"\",\"zerolinecolor\":\"#EBF0F8\"}},\"shapedefaults\":{\"line\":{\"color\":\"#2a3f5f\"}},\"ternary\":{\"aaxis\":{\"gridcolor\":\"#DFE8F3\",\"linecolor\":\"#A2B1C6\",\"ticks\":\"\"},\"baxis\":{\"gridcolor\":\"#DFE8F3\",\"linecolor\":\"#A2B1C6\",\"ticks\":\"\"},\"bgcolor\":\"white\",\"caxis\":{\"gridcolor\":\"#DFE8F3\",\"linecolor\":\"#A2B1C6\",\"ticks\":\"\"}},\"title\":{\"x\":0.05},\"xaxis\":{\"automargin\":true,\"gridcolor\":\"#EBF0F8\",\"linecolor\":\"#EBF0F8\",\"ticks\":\"\",\"title\":{\"standoff\":15},\"zerolinecolor\":\"#EBF0F8\",\"zerolinewidth\":2},\"yaxis\":{\"automargin\":true,\"gridcolor\":\"#EBF0F8\",\"linecolor\":\"#EBF0F8\",\"ticks\":\"\",\"title\":{\"standoff\":15},\"zerolinecolor\":\"#EBF0F8\",\"zerolinewidth\":2}}},\"xaxis\":{\"anchor\":\"y\",\"domain\":[0.0,1.0],\"title\":{\"text\":\"Destination Airport\"},\"tickangle\":-45},\"yaxis\":{\"anchor\":\"x\",\"domain\":[0.0,1.0],\"title\":{\"text\":\"Number of Airlines\"}},\"coloraxis\":{\"colorbar\":{\"title\":{\"text\":\"num_airlines\"}},\"colorscale\":[[0.0,\"rgb(247,251,255)\"],[0.125,\"rgb(222,235,247)\"],[0.25,\"rgb(198,219,239)\"],[0.375,\"rgb(158,202,225)\"],[0.5,\"rgb(107,174,214)\"],[0.625,\"rgb(66,146,198)\"],[0.75,\"rgb(33,113,181)\"],[0.875,\"rgb(8,81,156)\"],[1.0,\"rgb(8,48,107)\"]]},\"legend\":{\"tracegroupgap\":0},\"title\":{\"text\":\"Number of Airlines Serving Each Destination\",\"font\":{\"size\":18,\"family\":\"Arial\",\"color\":\"black\"}},\"barmode\":\"relative\",\"margin\":{\"l\":40,\"r\":40,\"t\":60,\"b\":120}},                        {\"responsive\": true}                    ).then(function(){\n",
              "                            \n",
              "var gd = document.getElementById('d66f5260-c45c-480e-9f81-7b31f60555c3');\n",
              "var x = new MutationObserver(function (mutations, observer) {{\n",
              "        var display = window.getComputedStyle(gd).display;\n",
              "        if (!display || display === 'none') {{\n",
              "            console.log([gd, 'removed!']);\n",
              "            Plotly.purge(gd);\n",
              "            observer.disconnect();\n",
              "        }}\n",
              "}});\n",
              "\n",
              "// Listen for the removal of the full notebook cells\n",
              "var notebookContainer = gd.closest('#notebook-container');\n",
              "if (notebookContainer) {{\n",
              "    x.observe(notebookContainer, {childList: true});\n",
              "}}\n",
              "\n",
              "// Listen for the clearing of the current output cell\n",
              "var outputEl = gd.closest('.output');\n",
              "if (outputEl) {{\n",
              "    x.observe(outputEl, {childList: true});\n",
              "}}\n",
              "\n",
              "                        })                };                            </script>        </div>\n",
              "</body>\n",
              "</html>"
            ]
          },
          "metadata": {}
        }
      ]
    },
    {
      "cell_type": "markdown",
      "source": [
        "# Top 15 Airlines by Number of Flights"
      ],
      "metadata": {
        "id": "h1ilGUIi183m"
      }
    },
    {
      "cell_type": "code",
      "source": [
        "airline_counts = (\n",
        "    df.groupBy(\"airline_name\")\n",
        "      .count()\n",
        "      .orderBy(F.col(\"count\").desc())\n",
        "      .limit(10)\n",
        "      .toPandas()\n",
        ")\n",
        "fig = px.bar(\n",
        "    airline_counts,\n",
        "    x=\"airline_name\",\n",
        "    y=\"count\",\n",
        "    title=\"Top 15 Airlines by Number of Flights\",\n",
        "    text=\"count\",\n",
        "    color_discrete_sequence=[\"#4B9CD3\"]\n",
        "fig.update_traces(textposition=\"outside\")\n",
        "fig.update_layout(\n",
        "    xaxis_title=\"Airline\",\n",
        "    yaxis_title=\"Flight Count\",\n",
        "    xaxis_tickangle=-45,\n",
        "    template=\"plotly_white\"\n",
        ")\n",
        "fig.show()"
      ],
      "metadata": {
        "colab": {
          "base_uri": "https://localhost:8080/",
          "height": 542
        },
        "id": "FwsqnuQ5lndt",
        "outputId": "2c4f588b-e1c5-418d-fd46-7c2dd35f9ef3"
      },
      "execution_count": 45,
      "outputs": [
        {
          "output_type": "display_data",
          "data": {
            "text/html": [
              "<html>\n",
              "<head><meta charset=\"utf-8\" /></head>\n",
              "<body>\n",
              "    <div>            <script src=\"https://cdnjs.cloudflare.com/ajax/libs/mathjax/2.7.5/MathJax.js?config=TeX-AMS-MML_SVG\"></script><script type=\"text/javascript\">if (window.MathJax && window.MathJax.Hub && window.MathJax.Hub.Config) {window.MathJax.Hub.Config({SVG: {font: \"STIX-Web\"}});}</script>                <script type=\"text/javascript\">window.PlotlyConfig = {MathJaxConfig: 'local'};</script>\n",
              "        <script charset=\"utf-8\" src=\"https://cdn.plot.ly/plotly-2.35.2.min.js\"></script>                <div id=\"c3eb51e6-75cb-491b-8899-400f847f8e93\" class=\"plotly-graph-div\" style=\"height:525px; width:100%;\"></div>            <script type=\"text/javascript\">                                    window.PLOTLYENV=window.PLOTLYENV || {};                                    if (document.getElementById(\"c3eb51e6-75cb-491b-8899-400f847f8e93\")) {                    Plotly.newPlot(                        \"c3eb51e6-75cb-491b-8899-400f847f8e93\",                        [{\"alignmentgroup\":\"True\",\"hovertemplate\":\"airline_name=%{x}\\u003cbr\\u003ecount=%{text}\\u003cextra\\u003e\\u003c\\u002fextra\\u003e\",\"legendgroup\":\"\",\"marker\":{\"color\":\"#4B9CD3\",\"pattern\":{\"shape\":\"\"}},\"name\":\"\",\"offsetgroup\":\"\",\"orientation\":\"v\",\"showlegend\":false,\"text\":[60886.0,33935.0,24835.0,2198.0,2059.0,1878.0,1803.0,1539.0,1365.0,1260.0],\"textposition\":\"outside\",\"x\":[\"Saudi Arabian\",\"flynas\",\"flyadeal\",\"Gulf Air\",\"flydubai\",\"EgyptAir\",\"Qatar\",\"Etihad\",\"Emirates\",\"Turkish\"],\"xaxis\":\"x\",\"y\":[60886,33935,24835,2198,2059,1878,1803,1539,1365,1260],\"yaxis\":\"y\",\"type\":\"bar\"}],                        {\"template\":{\"data\":{\"barpolar\":[{\"marker\":{\"line\":{\"color\":\"white\",\"width\":0.5},\"pattern\":{\"fillmode\":\"overlay\",\"size\":10,\"solidity\":0.2}},\"type\":\"barpolar\"}],\"bar\":[{\"error_x\":{\"color\":\"#2a3f5f\"},\"error_y\":{\"color\":\"#2a3f5f\"},\"marker\":{\"line\":{\"color\":\"white\",\"width\":0.5},\"pattern\":{\"fillmode\":\"overlay\",\"size\":10,\"solidity\":0.2}},\"type\":\"bar\"}],\"carpet\":[{\"aaxis\":{\"endlinecolor\":\"#2a3f5f\",\"gridcolor\":\"#C8D4E3\",\"linecolor\":\"#C8D4E3\",\"minorgridcolor\":\"#C8D4E3\",\"startlinecolor\":\"#2a3f5f\"},\"baxis\":{\"endlinecolor\":\"#2a3f5f\",\"gridcolor\":\"#C8D4E3\",\"linecolor\":\"#C8D4E3\",\"minorgridcolor\":\"#C8D4E3\",\"startlinecolor\":\"#2a3f5f\"},\"type\":\"carpet\"}],\"choropleth\":[{\"colorbar\":{\"outlinewidth\":0,\"ticks\":\"\"},\"type\":\"choropleth\"}],\"contourcarpet\":[{\"colorbar\":{\"outlinewidth\":0,\"ticks\":\"\"},\"type\":\"contourcarpet\"}],\"contour\":[{\"colorbar\":{\"outlinewidth\":0,\"ticks\":\"\"},\"colorscale\":[[0.0,\"#0d0887\"],[0.1111111111111111,\"#46039f\"],[0.2222222222222222,\"#7201a8\"],[0.3333333333333333,\"#9c179e\"],[0.4444444444444444,\"#bd3786\"],[0.5555555555555556,\"#d8576b\"],[0.6666666666666666,\"#ed7953\"],[0.7777777777777778,\"#fb9f3a\"],[0.8888888888888888,\"#fdca26\"],[1.0,\"#f0f921\"]],\"type\":\"contour\"}],\"heatmapgl\":[{\"colorbar\":{\"outlinewidth\":0,\"ticks\":\"\"},\"colorscale\":[[0.0,\"#0d0887\"],[0.1111111111111111,\"#46039f\"],[0.2222222222222222,\"#7201a8\"],[0.3333333333333333,\"#9c179e\"],[0.4444444444444444,\"#bd3786\"],[0.5555555555555556,\"#d8576b\"],[0.6666666666666666,\"#ed7953\"],[0.7777777777777778,\"#fb9f3a\"],[0.8888888888888888,\"#fdca26\"],[1.0,\"#f0f921\"]],\"type\":\"heatmapgl\"}],\"heatmap\":[{\"colorbar\":{\"outlinewidth\":0,\"ticks\":\"\"},\"colorscale\":[[0.0,\"#0d0887\"],[0.1111111111111111,\"#46039f\"],[0.2222222222222222,\"#7201a8\"],[0.3333333333333333,\"#9c179e\"],[0.4444444444444444,\"#bd3786\"],[0.5555555555555556,\"#d8576b\"],[0.6666666666666666,\"#ed7953\"],[0.7777777777777778,\"#fb9f3a\"],[0.8888888888888888,\"#fdca26\"],[1.0,\"#f0f921\"]],\"type\":\"heatmap\"}],\"histogram2dcontour\":[{\"colorbar\":{\"outlinewidth\":0,\"ticks\":\"\"},\"colorscale\":[[0.0,\"#0d0887\"],[0.1111111111111111,\"#46039f\"],[0.2222222222222222,\"#7201a8\"],[0.3333333333333333,\"#9c179e\"],[0.4444444444444444,\"#bd3786\"],[0.5555555555555556,\"#d8576b\"],[0.6666666666666666,\"#ed7953\"],[0.7777777777777778,\"#fb9f3a\"],[0.8888888888888888,\"#fdca26\"],[1.0,\"#f0f921\"]],\"type\":\"histogram2dcontour\"}],\"histogram2d\":[{\"colorbar\":{\"outlinewidth\":0,\"ticks\":\"\"},\"colorscale\":[[0.0,\"#0d0887\"],[0.1111111111111111,\"#46039f\"],[0.2222222222222222,\"#7201a8\"],[0.3333333333333333,\"#9c179e\"],[0.4444444444444444,\"#bd3786\"],[0.5555555555555556,\"#d8576b\"],[0.6666666666666666,\"#ed7953\"],[0.7777777777777778,\"#fb9f3a\"],[0.8888888888888888,\"#fdca26\"],[1.0,\"#f0f921\"]],\"type\":\"histogram2d\"}],\"histogram\":[{\"marker\":{\"pattern\":{\"fillmode\":\"overlay\",\"size\":10,\"solidity\":0.2}},\"type\":\"histogram\"}],\"mesh3d\":[{\"colorbar\":{\"outlinewidth\":0,\"ticks\":\"\"},\"type\":\"mesh3d\"}],\"parcoords\":[{\"line\":{\"colorbar\":{\"outlinewidth\":0,\"ticks\":\"\"}},\"type\":\"parcoords\"}],\"pie\":[{\"automargin\":true,\"type\":\"pie\"}],\"scatter3d\":[{\"line\":{\"colorbar\":{\"outlinewidth\":0,\"ticks\":\"\"}},\"marker\":{\"colorbar\":{\"outlinewidth\":0,\"ticks\":\"\"}},\"type\":\"scatter3d\"}],\"scattercarpet\":[{\"marker\":{\"colorbar\":{\"outlinewidth\":0,\"ticks\":\"\"}},\"type\":\"scattercarpet\"}],\"scattergeo\":[{\"marker\":{\"colorbar\":{\"outlinewidth\":0,\"ticks\":\"\"}},\"type\":\"scattergeo\"}],\"scattergl\":[{\"marker\":{\"colorbar\":{\"outlinewidth\":0,\"ticks\":\"\"}},\"type\":\"scattergl\"}],\"scattermapbox\":[{\"marker\":{\"colorbar\":{\"outlinewidth\":0,\"ticks\":\"\"}},\"type\":\"scattermapbox\"}],\"scatterpolargl\":[{\"marker\":{\"colorbar\":{\"outlinewidth\":0,\"ticks\":\"\"}},\"type\":\"scatterpolargl\"}],\"scatterpolar\":[{\"marker\":{\"colorbar\":{\"outlinewidth\":0,\"ticks\":\"\"}},\"type\":\"scatterpolar\"}],\"scatter\":[{\"fillpattern\":{\"fillmode\":\"overlay\",\"size\":10,\"solidity\":0.2},\"type\":\"scatter\"}],\"scatterternary\":[{\"marker\":{\"colorbar\":{\"outlinewidth\":0,\"ticks\":\"\"}},\"type\":\"scatterternary\"}],\"surface\":[{\"colorbar\":{\"outlinewidth\":0,\"ticks\":\"\"},\"colorscale\":[[0.0,\"#0d0887\"],[0.1111111111111111,\"#46039f\"],[0.2222222222222222,\"#7201a8\"],[0.3333333333333333,\"#9c179e\"],[0.4444444444444444,\"#bd3786\"],[0.5555555555555556,\"#d8576b\"],[0.6666666666666666,\"#ed7953\"],[0.7777777777777778,\"#fb9f3a\"],[0.8888888888888888,\"#fdca26\"],[1.0,\"#f0f921\"]],\"type\":\"surface\"}],\"table\":[{\"cells\":{\"fill\":{\"color\":\"#EBF0F8\"},\"line\":{\"color\":\"white\"}},\"header\":{\"fill\":{\"color\":\"#C8D4E3\"},\"line\":{\"color\":\"white\"}},\"type\":\"table\"}]},\"layout\":{\"annotationdefaults\":{\"arrowcolor\":\"#2a3f5f\",\"arrowhead\":0,\"arrowwidth\":1},\"autotypenumbers\":\"strict\",\"coloraxis\":{\"colorbar\":{\"outlinewidth\":0,\"ticks\":\"\"}},\"colorscale\":{\"diverging\":[[0,\"#8e0152\"],[0.1,\"#c51b7d\"],[0.2,\"#de77ae\"],[0.3,\"#f1b6da\"],[0.4,\"#fde0ef\"],[0.5,\"#f7f7f7\"],[0.6,\"#e6f5d0\"],[0.7,\"#b8e186\"],[0.8,\"#7fbc41\"],[0.9,\"#4d9221\"],[1,\"#276419\"]],\"sequential\":[[0.0,\"#0d0887\"],[0.1111111111111111,\"#46039f\"],[0.2222222222222222,\"#7201a8\"],[0.3333333333333333,\"#9c179e\"],[0.4444444444444444,\"#bd3786\"],[0.5555555555555556,\"#d8576b\"],[0.6666666666666666,\"#ed7953\"],[0.7777777777777778,\"#fb9f3a\"],[0.8888888888888888,\"#fdca26\"],[1.0,\"#f0f921\"]],\"sequentialminus\":[[0.0,\"#0d0887\"],[0.1111111111111111,\"#46039f\"],[0.2222222222222222,\"#7201a8\"],[0.3333333333333333,\"#9c179e\"],[0.4444444444444444,\"#bd3786\"],[0.5555555555555556,\"#d8576b\"],[0.6666666666666666,\"#ed7953\"],[0.7777777777777778,\"#fb9f3a\"],[0.8888888888888888,\"#fdca26\"],[1.0,\"#f0f921\"]]},\"colorway\":[\"#636efa\",\"#EF553B\",\"#00cc96\",\"#ab63fa\",\"#FFA15A\",\"#19d3f3\",\"#FF6692\",\"#B6E880\",\"#FF97FF\",\"#FECB52\"],\"font\":{\"color\":\"#2a3f5f\"},\"geo\":{\"bgcolor\":\"white\",\"lakecolor\":\"white\",\"landcolor\":\"white\",\"showlakes\":true,\"showland\":true,\"subunitcolor\":\"#C8D4E3\"},\"hoverlabel\":{\"align\":\"left\"},\"hovermode\":\"closest\",\"mapbox\":{\"style\":\"light\"},\"paper_bgcolor\":\"white\",\"plot_bgcolor\":\"white\",\"polar\":{\"angularaxis\":{\"gridcolor\":\"#EBF0F8\",\"linecolor\":\"#EBF0F8\",\"ticks\":\"\"},\"bgcolor\":\"white\",\"radialaxis\":{\"gridcolor\":\"#EBF0F8\",\"linecolor\":\"#EBF0F8\",\"ticks\":\"\"}},\"scene\":{\"xaxis\":{\"backgroundcolor\":\"white\",\"gridcolor\":\"#DFE8F3\",\"gridwidth\":2,\"linecolor\":\"#EBF0F8\",\"showbackground\":true,\"ticks\":\"\",\"zerolinecolor\":\"#EBF0F8\"},\"yaxis\":{\"backgroundcolor\":\"white\",\"gridcolor\":\"#DFE8F3\",\"gridwidth\":2,\"linecolor\":\"#EBF0F8\",\"showbackground\":true,\"ticks\":\"\",\"zerolinecolor\":\"#EBF0F8\"},\"zaxis\":{\"backgroundcolor\":\"white\",\"gridcolor\":\"#DFE8F3\",\"gridwidth\":2,\"linecolor\":\"#EBF0F8\",\"showbackground\":true,\"ticks\":\"\",\"zerolinecolor\":\"#EBF0F8\"}},\"shapedefaults\":{\"line\":{\"color\":\"#2a3f5f\"}},\"ternary\":{\"aaxis\":{\"gridcolor\":\"#DFE8F3\",\"linecolor\":\"#A2B1C6\",\"ticks\":\"\"},\"baxis\":{\"gridcolor\":\"#DFE8F3\",\"linecolor\":\"#A2B1C6\",\"ticks\":\"\"},\"bgcolor\":\"white\",\"caxis\":{\"gridcolor\":\"#DFE8F3\",\"linecolor\":\"#A2B1C6\",\"ticks\":\"\"}},\"title\":{\"x\":0.05},\"xaxis\":{\"automargin\":true,\"gridcolor\":\"#EBF0F8\",\"linecolor\":\"#EBF0F8\",\"ticks\":\"\",\"title\":{\"standoff\":15},\"zerolinecolor\":\"#EBF0F8\",\"zerolinewidth\":2},\"yaxis\":{\"automargin\":true,\"gridcolor\":\"#EBF0F8\",\"linecolor\":\"#EBF0F8\",\"ticks\":\"\",\"title\":{\"standoff\":15},\"zerolinecolor\":\"#EBF0F8\",\"zerolinewidth\":2}}},\"xaxis\":{\"anchor\":\"y\",\"domain\":[0.0,1.0],\"title\":{\"text\":\"Airline\"},\"tickangle\":-45},\"yaxis\":{\"anchor\":\"x\",\"domain\":[0.0,1.0],\"title\":{\"text\":\"Flight Count\"}},\"legend\":{\"tracegroupgap\":0},\"title\":{\"text\":\"Top 15 Airlines by Number of Flights\"},\"barmode\":\"relative\"},                        {\"responsive\": true}                    ).then(function(){\n",
              "                            \n",
              "var gd = document.getElementById('c3eb51e6-75cb-491b-8899-400f847f8e93');\n",
              "var x = new MutationObserver(function (mutations, observer) {{\n",
              "        var display = window.getComputedStyle(gd).display;\n",
              "        if (!display || display === 'none') {{\n",
              "            console.log([gd, 'removed!']);\n",
              "            Plotly.purge(gd);\n",
              "            observer.disconnect();\n",
              "        }}\n",
              "}});\n",
              "\n",
              "// Listen for the removal of the full notebook cells\n",
              "var notebookContainer = gd.closest('#notebook-container');\n",
              "if (notebookContainer) {{\n",
              "    x.observe(notebookContainer, {childList: true});\n",
              "}}\n",
              "\n",
              "// Listen for the clearing of the current output cell\n",
              "var outputEl = gd.closest('.output');\n",
              "if (outputEl) {{\n",
              "    x.observe(outputEl, {childList: true});\n",
              "}}\n",
              "\n",
              "                        })                };                            </script>        </div>\n",
              "</body>\n",
              "</html>"
            ]
          },
          "metadata": {}
        }
      ]
    },
    {
      "cell_type": "markdown",
      "source": [
        "# Daily Flight Volume Over Time"
      ],
      "metadata": {
        "id": "w-kkLp4Y17d7"
      }
    },
    {
      "cell_type": "code",
      "source": [
        "daily_trend = (\n",
        "    df.groupBy(\"departure_date\")\n",
        "      .agg(F.count(\"*\").alias(\"num_flights\"))\n",
        "      .orderBy(\"departure_date\")\n",
        "      .toPandas()\n",
        ")\n",
        "\n",
        "fig = px.line(\n",
        "    daily_trend,\n",
        "    x=\"departure_date\",\n",
        "    y=\"num_flights\",\n",
        "    title=\"Daily Flight Volume Over Time\",\n",
        "    markers=True\n",
        ")\n",
        "fig.update_layout(template=\"plotly_white\", xaxis_title=\"Date\", yaxis_title=\"Number of Flights\")\n",
        "fig.show()"
      ],
      "metadata": {
        "colab": {
          "base_uri": "https://localhost:8080/",
          "height": 542
        },
        "id": "iZ4cyCj2wToc",
        "outputId": "e81952d7-d794-4629-ecb7-1bf47223b4d6"
      },
      "execution_count": 47,
      "outputs": [
        {
          "output_type": "display_data",
          "data": {
            "text/html": [
              "<html>\n",
              "<head><meta charset=\"utf-8\" /></head>\n",
              "<body>\n",
              "    <div>            <script src=\"https://cdnjs.cloudflare.com/ajax/libs/mathjax/2.7.5/MathJax.js?config=TeX-AMS-MML_SVG\"></script><script type=\"text/javascript\">if (window.MathJax && window.MathJax.Hub && window.MathJax.Hub.Config) {window.MathJax.Hub.Config({SVG: {font: \"STIX-Web\"}});}</script>                <script type=\"text/javascript\">window.PlotlyConfig = {MathJaxConfig: 'local'};</script>\n",
              "        <script charset=\"utf-8\" src=\"https://cdn.plot.ly/plotly-2.35.2.min.js\"></script>                <div id=\"8634a837-7ef9-4a9f-b4c1-25ca2dda6d30\" class=\"plotly-graph-div\" style=\"height:525px; width:100%;\"></div>            <script type=\"text/javascript\">                                    window.PLOTLYENV=window.PLOTLYENV || {};                                    if (document.getElementById(\"8634a837-7ef9-4a9f-b4c1-25ca2dda6d30\")) {                    Plotly.newPlot(                        \"8634a837-7ef9-4a9f-b4c1-25ca2dda6d30\",                        [{\"hovertemplate\":\"departure_date=%{x}\\u003cbr\\u003enum_flights=%{y}\\u003cextra\\u003e\\u003c\\u002fextra\\u003e\",\"legendgroup\":\"\",\"line\":{\"color\":\"#636efa\",\"dash\":\"solid\"},\"marker\":{\"symbol\":\"circle\"},\"mode\":\"lines+markers\",\"name\":\"\",\"orientation\":\"v\",\"showlegend\":false,\"x\":[\"2025-03-14\",\"2025-03-15\",\"2025-03-16\",\"2025-03-17\",\"2025-03-18\",\"2025-03-19\",\"2025-03-20\",\"2025-03-21\",\"2025-03-22\",\"2025-03-23\",\"2025-03-24\",\"2025-03-25\",\"2025-03-26\",\"2025-03-27\",\"2025-03-28\",\"2025-03-29\",\"2025-03-30\",\"2025-03-31\",\"2025-04-01\",\"2025-04-02\",\"2025-04-03\",\"2025-04-04\",\"2025-04-05\",\"2025-04-06\",\"2025-04-07\",\"2025-04-08\",\"2025-04-09\",\"2025-04-10\",\"2025-04-11\",\"2025-04-12\",\"2025-04-13\",\"2025-04-14\",\"2025-04-15\",\"2025-04-16\",\"2025-04-17\",\"2025-04-18\",\"2025-04-19\",\"2025-04-20\",\"2025-04-21\",\"2025-04-22\",\"2025-04-23\",\"2025-04-24\",\"2025-04-25\",\"2025-04-26\",\"2025-04-27\",\"2025-04-28\",\"2025-04-29\",\"2025-04-30\",\"2025-05-01\",\"2025-05-02\",\"2025-05-03\",\"2025-05-04\",\"2025-05-05\",\"2025-05-06\",\"2025-05-07\",\"2025-05-08\",\"2025-05-09\",\"2025-05-10\",\"2025-05-11\",\"2025-05-12\",\"2025-05-13\",\"2025-05-14\",\"2025-05-15\",\"2025-05-16\",\"2025-05-17\",\"2025-05-18\",\"2025-05-19\",\"2025-05-20\",\"2025-05-21\",\"2025-05-22\",\"2025-05-23\",\"2025-05-24\",\"2025-05-25\",\"2025-05-26\",\"2025-05-27\",\"2025-05-28\",\"2025-05-29\",\"2025-05-30\",\"2025-05-31\",\"2025-06-01\",\"2025-06-02\",\"2025-06-03\",\"2025-06-04\",\"2025-06-05\",\"2025-06-06\",\"2025-06-07\",\"2025-06-08\",\"2025-06-09\",\"2025-06-10\",\"2025-06-11\",\"2025-06-12\",\"2025-06-13\",\"2025-06-14\",\"2025-06-15\",\"2025-06-16\",\"2025-06-17\",\"2025-06-18\",\"2025-06-19\",\"2025-06-20\",\"2025-06-21\",\"2025-06-22\",\"2025-06-23\",\"2025-06-24\",\"2025-06-25\",\"2025-06-26\",\"2025-06-27\",\"2025-06-28\",\"2025-06-29\",\"2025-06-30\",\"2025-07-01\",\"2025-07-02\",\"2025-07-03\",\"2025-07-04\",\"2025-07-05\",\"2025-07-06\",\"2025-07-07\",\"2025-07-08\",\"2025-07-09\",\"2025-07-10\",\"2025-07-11\",\"2025-07-12\",\"2025-07-13\",\"2025-07-14\",\"2025-07-15\",\"2025-07-16\",\"2025-07-17\",\"2025-07-18\",\"2025-07-19\",\"2025-07-20\",\"2025-07-21\",\"2025-07-22\",\"2025-07-23\",\"2025-07-24\",\"2025-07-25\",\"2025-07-26\",\"2025-07-27\",\"2025-07-28\",\"2025-07-29\",\"2025-07-30\",\"2025-07-31\",\"2025-08-01\",\"2025-08-02\",\"2025-08-03\",\"2025-08-04\",\"2025-08-05\",\"2025-08-06\",\"2025-08-07\",\"2025-08-08\",\"2025-08-09\",\"2025-08-10\",\"2025-08-11\",\"2025-08-12\",\"2025-08-13\",\"2025-08-14\",\"2025-08-15\",\"2025-08-16\",\"2025-08-17\",\"2025-08-18\",\"2025-08-19\",\"2025-08-20\",\"2025-08-21\",\"2025-08-22\",\"2025-08-23\",\"2025-08-24\",\"2025-08-25\",\"2025-08-26\",\"2025-08-27\",\"2025-08-28\",\"2025-08-29\",\"2025-08-30\",\"2025-08-31\",\"2025-09-01\",\"2025-09-02\",\"2025-09-03\",\"2025-09-04\",\"2025-09-05\",\"2025-09-06\",\"2025-09-07\",\"2025-09-08\",\"2025-09-09\",\"2025-09-10\",\"2025-09-11\",\"2025-09-12\",\"2025-09-13\",\"2025-09-14\",\"2025-09-15\",\"2025-09-16\",\"2025-09-17\",\"2025-09-18\",\"2025-09-19\",\"2025-09-20\",\"2025-09-21\",\"2025-09-22\",\"2025-09-23\",\"2025-09-24\",\"2025-09-25\",\"2025-09-26\",\"2025-09-27\",\"2025-09-28\",\"2025-09-29\",\"2025-09-30\",\"2025-10-01\",\"2025-10-02\",\"2025-10-03\",\"2025-10-04\",\"2025-10-05\",\"2025-10-06\",\"2025-10-07\",\"2025-10-08\",\"2025-10-09\",\"2025-10-10\"],\"xaxis\":\"x\",\"y\":[69,600,566,597,430,599,644,631,664,609,655,649,660,694,677,684,421,668,702,726,745,734,747,709,728,702,711,737,724,720,691,712,700,714,730,714,520,686,717,699,714,738,713,725,689,721,701,712,742,726,739,698,743,703,720,742,723,730,700,741,706,733,744,726,731,701,734,703,517,741,668,615,686,726,705,723,734,741,739,713,770,720,612,771,729,742,709,783,730,757,757,744,545,716,749,708,744,707,646,761,727,761,746,773,779,760,773,735,714,648,785,787,772,777,728,767,755,785,732,668,776,767,798,726,793,784,784,788,776,808,778,763,781,787,787,771,802,771,762,777,790,787,774,807,776,754,790,795,743,667,814,779,750,679,793,791,779,813,781,750,793,799,803,782,806,775,745,789,783,783,772,782,776,744,786,775,776,767,770,766,732,768,750,762,750,764,762,721,772,751,768,747,768,764,721,766,739,769,741,743,752,715,776,751,756,738,749,759,713,771,244],\"yaxis\":\"y\",\"type\":\"scatter\"}],                        {\"template\":{\"data\":{\"barpolar\":[{\"marker\":{\"line\":{\"color\":\"white\",\"width\":0.5},\"pattern\":{\"fillmode\":\"overlay\",\"size\":10,\"solidity\":0.2}},\"type\":\"barpolar\"}],\"bar\":[{\"error_x\":{\"color\":\"#2a3f5f\"},\"error_y\":{\"color\":\"#2a3f5f\"},\"marker\":{\"line\":{\"color\":\"white\",\"width\":0.5},\"pattern\":{\"fillmode\":\"overlay\",\"size\":10,\"solidity\":0.2}},\"type\":\"bar\"}],\"carpet\":[{\"aaxis\":{\"endlinecolor\":\"#2a3f5f\",\"gridcolor\":\"#C8D4E3\",\"linecolor\":\"#C8D4E3\",\"minorgridcolor\":\"#C8D4E3\",\"startlinecolor\":\"#2a3f5f\"},\"baxis\":{\"endlinecolor\":\"#2a3f5f\",\"gridcolor\":\"#C8D4E3\",\"linecolor\":\"#C8D4E3\",\"minorgridcolor\":\"#C8D4E3\",\"startlinecolor\":\"#2a3f5f\"},\"type\":\"carpet\"}],\"choropleth\":[{\"colorbar\":{\"outlinewidth\":0,\"ticks\":\"\"},\"type\":\"choropleth\"}],\"contourcarpet\":[{\"colorbar\":{\"outlinewidth\":0,\"ticks\":\"\"},\"type\":\"contourcarpet\"}],\"contour\":[{\"colorbar\":{\"outlinewidth\":0,\"ticks\":\"\"},\"colorscale\":[[0.0,\"#0d0887\"],[0.1111111111111111,\"#46039f\"],[0.2222222222222222,\"#7201a8\"],[0.3333333333333333,\"#9c179e\"],[0.4444444444444444,\"#bd3786\"],[0.5555555555555556,\"#d8576b\"],[0.6666666666666666,\"#ed7953\"],[0.7777777777777778,\"#fb9f3a\"],[0.8888888888888888,\"#fdca26\"],[1.0,\"#f0f921\"]],\"type\":\"contour\"}],\"heatmapgl\":[{\"colorbar\":{\"outlinewidth\":0,\"ticks\":\"\"},\"colorscale\":[[0.0,\"#0d0887\"],[0.1111111111111111,\"#46039f\"],[0.2222222222222222,\"#7201a8\"],[0.3333333333333333,\"#9c179e\"],[0.4444444444444444,\"#bd3786\"],[0.5555555555555556,\"#d8576b\"],[0.6666666666666666,\"#ed7953\"],[0.7777777777777778,\"#fb9f3a\"],[0.8888888888888888,\"#fdca26\"],[1.0,\"#f0f921\"]],\"type\":\"heatmapgl\"}],\"heatmap\":[{\"colorbar\":{\"outlinewidth\":0,\"ticks\":\"\"},\"colorscale\":[[0.0,\"#0d0887\"],[0.1111111111111111,\"#46039f\"],[0.2222222222222222,\"#7201a8\"],[0.3333333333333333,\"#9c179e\"],[0.4444444444444444,\"#bd3786\"],[0.5555555555555556,\"#d8576b\"],[0.6666666666666666,\"#ed7953\"],[0.7777777777777778,\"#fb9f3a\"],[0.8888888888888888,\"#fdca26\"],[1.0,\"#f0f921\"]],\"type\":\"heatmap\"}],\"histogram2dcontour\":[{\"colorbar\":{\"outlinewidth\":0,\"ticks\":\"\"},\"colorscale\":[[0.0,\"#0d0887\"],[0.1111111111111111,\"#46039f\"],[0.2222222222222222,\"#7201a8\"],[0.3333333333333333,\"#9c179e\"],[0.4444444444444444,\"#bd3786\"],[0.5555555555555556,\"#d8576b\"],[0.6666666666666666,\"#ed7953\"],[0.7777777777777778,\"#fb9f3a\"],[0.8888888888888888,\"#fdca26\"],[1.0,\"#f0f921\"]],\"type\":\"histogram2dcontour\"}],\"histogram2d\":[{\"colorbar\":{\"outlinewidth\":0,\"ticks\":\"\"},\"colorscale\":[[0.0,\"#0d0887\"],[0.1111111111111111,\"#46039f\"],[0.2222222222222222,\"#7201a8\"],[0.3333333333333333,\"#9c179e\"],[0.4444444444444444,\"#bd3786\"],[0.5555555555555556,\"#d8576b\"],[0.6666666666666666,\"#ed7953\"],[0.7777777777777778,\"#fb9f3a\"],[0.8888888888888888,\"#fdca26\"],[1.0,\"#f0f921\"]],\"type\":\"histogram2d\"}],\"histogram\":[{\"marker\":{\"pattern\":{\"fillmode\":\"overlay\",\"size\":10,\"solidity\":0.2}},\"type\":\"histogram\"}],\"mesh3d\":[{\"colorbar\":{\"outlinewidth\":0,\"ticks\":\"\"},\"type\":\"mesh3d\"}],\"parcoords\":[{\"line\":{\"colorbar\":{\"outlinewidth\":0,\"ticks\":\"\"}},\"type\":\"parcoords\"}],\"pie\":[{\"automargin\":true,\"type\":\"pie\"}],\"scatter3d\":[{\"line\":{\"colorbar\":{\"outlinewidth\":0,\"ticks\":\"\"}},\"marker\":{\"colorbar\":{\"outlinewidth\":0,\"ticks\":\"\"}},\"type\":\"scatter3d\"}],\"scattercarpet\":[{\"marker\":{\"colorbar\":{\"outlinewidth\":0,\"ticks\":\"\"}},\"type\":\"scattercarpet\"}],\"scattergeo\":[{\"marker\":{\"colorbar\":{\"outlinewidth\":0,\"ticks\":\"\"}},\"type\":\"scattergeo\"}],\"scattergl\":[{\"marker\":{\"colorbar\":{\"outlinewidth\":0,\"ticks\":\"\"}},\"type\":\"scattergl\"}],\"scattermapbox\":[{\"marker\":{\"colorbar\":{\"outlinewidth\":0,\"ticks\":\"\"}},\"type\":\"scattermapbox\"}],\"scatterpolargl\":[{\"marker\":{\"colorbar\":{\"outlinewidth\":0,\"ticks\":\"\"}},\"type\":\"scatterpolargl\"}],\"scatterpolar\":[{\"marker\":{\"colorbar\":{\"outlinewidth\":0,\"ticks\":\"\"}},\"type\":\"scatterpolar\"}],\"scatter\":[{\"fillpattern\":{\"fillmode\":\"overlay\",\"size\":10,\"solidity\":0.2},\"type\":\"scatter\"}],\"scatterternary\":[{\"marker\":{\"colorbar\":{\"outlinewidth\":0,\"ticks\":\"\"}},\"type\":\"scatterternary\"}],\"surface\":[{\"colorbar\":{\"outlinewidth\":0,\"ticks\":\"\"},\"colorscale\":[[0.0,\"#0d0887\"],[0.1111111111111111,\"#46039f\"],[0.2222222222222222,\"#7201a8\"],[0.3333333333333333,\"#9c179e\"],[0.4444444444444444,\"#bd3786\"],[0.5555555555555556,\"#d8576b\"],[0.6666666666666666,\"#ed7953\"],[0.7777777777777778,\"#fb9f3a\"],[0.8888888888888888,\"#fdca26\"],[1.0,\"#f0f921\"]],\"type\":\"surface\"}],\"table\":[{\"cells\":{\"fill\":{\"color\":\"#EBF0F8\"},\"line\":{\"color\":\"white\"}},\"header\":{\"fill\":{\"color\":\"#C8D4E3\"},\"line\":{\"color\":\"white\"}},\"type\":\"table\"}]},\"layout\":{\"annotationdefaults\":{\"arrowcolor\":\"#2a3f5f\",\"arrowhead\":0,\"arrowwidth\":1},\"autotypenumbers\":\"strict\",\"coloraxis\":{\"colorbar\":{\"outlinewidth\":0,\"ticks\":\"\"}},\"colorscale\":{\"diverging\":[[0,\"#8e0152\"],[0.1,\"#c51b7d\"],[0.2,\"#de77ae\"],[0.3,\"#f1b6da\"],[0.4,\"#fde0ef\"],[0.5,\"#f7f7f7\"],[0.6,\"#e6f5d0\"],[0.7,\"#b8e186\"],[0.8,\"#7fbc41\"],[0.9,\"#4d9221\"],[1,\"#276419\"]],\"sequential\":[[0.0,\"#0d0887\"],[0.1111111111111111,\"#46039f\"],[0.2222222222222222,\"#7201a8\"],[0.3333333333333333,\"#9c179e\"],[0.4444444444444444,\"#bd3786\"],[0.5555555555555556,\"#d8576b\"],[0.6666666666666666,\"#ed7953\"],[0.7777777777777778,\"#fb9f3a\"],[0.8888888888888888,\"#fdca26\"],[1.0,\"#f0f921\"]],\"sequentialminus\":[[0.0,\"#0d0887\"],[0.1111111111111111,\"#46039f\"],[0.2222222222222222,\"#7201a8\"],[0.3333333333333333,\"#9c179e\"],[0.4444444444444444,\"#bd3786\"],[0.5555555555555556,\"#d8576b\"],[0.6666666666666666,\"#ed7953\"],[0.7777777777777778,\"#fb9f3a\"],[0.8888888888888888,\"#fdca26\"],[1.0,\"#f0f921\"]]},\"colorway\":[\"#636efa\",\"#EF553B\",\"#00cc96\",\"#ab63fa\",\"#FFA15A\",\"#19d3f3\",\"#FF6692\",\"#B6E880\",\"#FF97FF\",\"#FECB52\"],\"font\":{\"color\":\"#2a3f5f\"},\"geo\":{\"bgcolor\":\"white\",\"lakecolor\":\"white\",\"landcolor\":\"white\",\"showlakes\":true,\"showland\":true,\"subunitcolor\":\"#C8D4E3\"},\"hoverlabel\":{\"align\":\"left\"},\"hovermode\":\"closest\",\"mapbox\":{\"style\":\"light\"},\"paper_bgcolor\":\"white\",\"plot_bgcolor\":\"white\",\"polar\":{\"angularaxis\":{\"gridcolor\":\"#EBF0F8\",\"linecolor\":\"#EBF0F8\",\"ticks\":\"\"},\"bgcolor\":\"white\",\"radialaxis\":{\"gridcolor\":\"#EBF0F8\",\"linecolor\":\"#EBF0F8\",\"ticks\":\"\"}},\"scene\":{\"xaxis\":{\"backgroundcolor\":\"white\",\"gridcolor\":\"#DFE8F3\",\"gridwidth\":2,\"linecolor\":\"#EBF0F8\",\"showbackground\":true,\"ticks\":\"\",\"zerolinecolor\":\"#EBF0F8\"},\"yaxis\":{\"backgroundcolor\":\"white\",\"gridcolor\":\"#DFE8F3\",\"gridwidth\":2,\"linecolor\":\"#EBF0F8\",\"showbackground\":true,\"ticks\":\"\",\"zerolinecolor\":\"#EBF0F8\"},\"zaxis\":{\"backgroundcolor\":\"white\",\"gridcolor\":\"#DFE8F3\",\"gridwidth\":2,\"linecolor\":\"#EBF0F8\",\"showbackground\":true,\"ticks\":\"\",\"zerolinecolor\":\"#EBF0F8\"}},\"shapedefaults\":{\"line\":{\"color\":\"#2a3f5f\"}},\"ternary\":{\"aaxis\":{\"gridcolor\":\"#DFE8F3\",\"linecolor\":\"#A2B1C6\",\"ticks\":\"\"},\"baxis\":{\"gridcolor\":\"#DFE8F3\",\"linecolor\":\"#A2B1C6\",\"ticks\":\"\"},\"bgcolor\":\"white\",\"caxis\":{\"gridcolor\":\"#DFE8F3\",\"linecolor\":\"#A2B1C6\",\"ticks\":\"\"}},\"title\":{\"x\":0.05},\"xaxis\":{\"automargin\":true,\"gridcolor\":\"#EBF0F8\",\"linecolor\":\"#EBF0F8\",\"ticks\":\"\",\"title\":{\"standoff\":15},\"zerolinecolor\":\"#EBF0F8\",\"zerolinewidth\":2},\"yaxis\":{\"automargin\":true,\"gridcolor\":\"#EBF0F8\",\"linecolor\":\"#EBF0F8\",\"ticks\":\"\",\"title\":{\"standoff\":15},\"zerolinecolor\":\"#EBF0F8\",\"zerolinewidth\":2}}},\"xaxis\":{\"anchor\":\"y\",\"domain\":[0.0,1.0],\"title\":{\"text\":\"Date\"}},\"yaxis\":{\"anchor\":\"x\",\"domain\":[0.0,1.0],\"title\":{\"text\":\"Number of Flights\"}},\"legend\":{\"tracegroupgap\":0},\"title\":{\"text\":\"Daily Flight Volume Over Time\"}},                        {\"responsive\": true}                    ).then(function(){\n",
              "                            \n",
              "var gd = document.getElementById('8634a837-7ef9-4a9f-b4c1-25ca2dda6d30');\n",
              "var x = new MutationObserver(function (mutations, observer) {{\n",
              "        var display = window.getComputedStyle(gd).display;\n",
              "        if (!display || display === 'none') {{\n",
              "            console.log([gd, 'removed!']);\n",
              "            Plotly.purge(gd);\n",
              "            observer.disconnect();\n",
              "        }}\n",
              "}});\n",
              "\n",
              "// Listen for the removal of the full notebook cells\n",
              "var notebookContainer = gd.closest('#notebook-container');\n",
              "if (notebookContainer) {{\n",
              "    x.observe(notebookContainer, {childList: true});\n",
              "}}\n",
              "\n",
              "// Listen for the clearing of the current output cell\n",
              "var outputEl = gd.closest('.output');\n",
              "if (outputEl) {{\n",
              "    x.observe(outputEl, {childList: true});\n",
              "}}\n",
              "\n",
              "                        })                };                            </script>        </div>\n",
              "</body>\n",
              "</html>"
            ]
          },
          "metadata": {}
        }
      ]
    },
    {
      "cell_type": "markdown",
      "source": [
        "# Flight Status Distribution by Airline"
      ],
      "metadata": {
        "id": "KfvXDNBO2O3Q"
      }
    },
    {
      "cell_type": "code",
      "source": [
        "top10 = (df.groupBy(\"airline_name\").count()\n",
        "           .orderBy(F.col(\"count\").desc()).limit(10)\n",
        "           .select(\"airline_name\"))\n",
        "\n",
        "data = (df.join(top10, \"airline_name\")\n",
        "          .groupBy(\"airline_name\",\"status\").count()\n",
        "          .orderBy(\"airline_name\",\"status\")\n",
        "          .toPandas())\n",
        "\n",
        "fig = px.bar(data, x=\"airline_name\", y=\"count\", color=\"status\",\n",
        "             title=\"Flight Status Distribution by Airline (Top 10)\")\n",
        "fig.update_layout(xaxis_tickangle=-45, template=\"plotly_white\",\n",
        "                  yaxis_title=\"Flights\", xaxis_title=\"Airline\")\n",
        "fig.show()"
      ],
      "metadata": {
        "colab": {
          "base_uri": "https://localhost:8080/",
          "height": 542
        },
        "id": "i6PAnU6pwju5",
        "outputId": "e5dc05c4-42f7-4efe-e3bd-bf35e64191a7"
      },
      "execution_count": 50,
      "outputs": [
        {
          "output_type": "display_data",
          "data": {
            "text/html": [
              "<html>\n",
              "<head><meta charset=\"utf-8\" /></head>\n",
              "<body>\n",
              "    <div>            <script src=\"https://cdnjs.cloudflare.com/ajax/libs/mathjax/2.7.5/MathJax.js?config=TeX-AMS-MML_SVG\"></script><script type=\"text/javascript\">if (window.MathJax && window.MathJax.Hub && window.MathJax.Hub.Config) {window.MathJax.Hub.Config({SVG: {font: \"STIX-Web\"}});}</script>                <script type=\"text/javascript\">window.PlotlyConfig = {MathJaxConfig: 'local'};</script>\n",
              "        <script charset=\"utf-8\" src=\"https://cdn.plot.ly/plotly-2.35.2.min.js\"></script>                <div id=\"612f1b0e-aea3-4ab3-b633-7e28e3a6fbb9\" class=\"plotly-graph-div\" style=\"height:525px; width:100%;\"></div>            <script type=\"text/javascript\">                                    window.PLOTLYENV=window.PLOTLYENV || {};                                    if (document.getElementById(\"612f1b0e-aea3-4ab3-b633-7e28e3a6fbb9\")) {                    Plotly.newPlot(                        \"612f1b0e-aea3-4ab3-b633-7e28e3a6fbb9\",                        [{\"alignmentgroup\":\"True\",\"hovertemplate\":\"status=Departed\\u003cbr\\u003eairline_name=%{x}\\u003cbr\\u003ecount=%{y}\\u003cextra\\u003e\\u003c\\u002fextra\\u003e\",\"legendgroup\":\"Departed\",\"marker\":{\"color\":\"#636efa\",\"pattern\":{\"shape\":\"\"}},\"name\":\"Departed\",\"offsetgroup\":\"Departed\",\"orientation\":\"v\",\"showlegend\":true,\"textposition\":\"auto\",\"x\":[\"EgyptAir\",\"Emirates\",\"Qatar\",\"Saudi Arabian\",\"Turkish\",\"flyadeal\",\"flydubai\",\"flynas\"],\"xaxis\":\"x\",\"y\":[31,54,905,4217,320,1526,184,2420],\"yaxis\":\"y\",\"type\":\"bar\"},{\"alignmentgroup\":\"True\",\"hovertemplate\":\"status=Expected\\u003cbr\\u003eairline_name=%{x}\\u003cbr\\u003ecount=%{y}\\u003cextra\\u003e\\u003c\\u002fextra\\u003e\",\"legendgroup\":\"Expected\",\"marker\":{\"color\":\"#EF553B\",\"pattern\":{\"shape\":\"\"}},\"name\":\"Expected\",\"offsetgroup\":\"Expected\",\"orientation\":\"v\",\"showlegend\":true,\"textposition\":\"auto\",\"x\":[\"EgyptAir\",\"Emirates\",\"Qatar\",\"Saudi Arabian\",\"Turkish\",\"flyadeal\",\"flydubai\",\"flynas\"],\"xaxis\":\"x\",\"y\":[52,181,879,4498,610,1641,267,2831],\"yaxis\":\"y\",\"type\":\"bar\"},{\"alignmentgroup\":\"True\",\"hovertemplate\":\"status=Unknown\\u003cbr\\u003eairline_name=%{x}\\u003cbr\\u003ecount=%{y}\\u003cextra\\u003e\\u003c\\u002fextra\\u003e\",\"legendgroup\":\"Unknown\",\"marker\":{\"color\":\"#00cc96\",\"pattern\":{\"shape\":\"\"}},\"name\":\"Unknown\",\"offsetgroup\":\"Unknown\",\"orientation\":\"v\",\"showlegend\":true,\"textposition\":\"auto\",\"x\":[\"EgyptAir\",\"Emirates\",\"Etihad\",\"Gulf Air\",\"Qatar\",\"Saudi Arabian\",\"Turkish\",\"flyadeal\",\"flydubai\",\"flynas\"],\"xaxis\":\"x\",\"y\":[1795,1130,1539,2198,17,52131,330,21652,1608,28675],\"yaxis\":\"y\",\"type\":\"bar\"},{\"alignmentgroup\":\"True\",\"hovertemplate\":\"status=Canceled\\u003cbr\\u003eairline_name=%{x}\\u003cbr\\u003ecount=%{y}\\u003cextra\\u003e\\u003c\\u002fextra\\u003e\",\"legendgroup\":\"Canceled\",\"marker\":{\"color\":\"#ab63fa\",\"pattern\":{\"shape\":\"\"}},\"name\":\"Canceled\",\"offsetgroup\":\"Canceled\",\"orientation\":\"v\",\"showlegend\":true,\"textposition\":\"auto\",\"x\":[\"Qatar\",\"Saudi Arabian\",\"flyadeal\",\"flynas\"],\"xaxis\":\"x\",\"y\":[2,23,8,1],\"yaxis\":\"y\",\"type\":\"bar\"},{\"alignmentgroup\":\"True\",\"hovertemplate\":\"status=CanceledUncertain\\u003cbr\\u003eairline_name=%{x}\\u003cbr\\u003ecount=%{y}\\u003cextra\\u003e\\u003c\\u002fextra\\u003e\",\"legendgroup\":\"CanceledUncertain\",\"marker\":{\"color\":\"#FFA15A\",\"pattern\":{\"shape\":\"\"}},\"name\":\"CanceledUncertain\",\"offsetgroup\":\"CanceledUncertain\",\"orientation\":\"v\",\"showlegend\":true,\"textposition\":\"auto\",\"x\":[\"Saudi Arabian\",\"flyadeal\",\"flynas\"],\"xaxis\":\"x\",\"y\":[17,8,8],\"yaxis\":\"y\",\"type\":\"bar\"}],                        {\"template\":{\"data\":{\"barpolar\":[{\"marker\":{\"line\":{\"color\":\"white\",\"width\":0.5},\"pattern\":{\"fillmode\":\"overlay\",\"size\":10,\"solidity\":0.2}},\"type\":\"barpolar\"}],\"bar\":[{\"error_x\":{\"color\":\"#2a3f5f\"},\"error_y\":{\"color\":\"#2a3f5f\"},\"marker\":{\"line\":{\"color\":\"white\",\"width\":0.5},\"pattern\":{\"fillmode\":\"overlay\",\"size\":10,\"solidity\":0.2}},\"type\":\"bar\"}],\"carpet\":[{\"aaxis\":{\"endlinecolor\":\"#2a3f5f\",\"gridcolor\":\"#C8D4E3\",\"linecolor\":\"#C8D4E3\",\"minorgridcolor\":\"#C8D4E3\",\"startlinecolor\":\"#2a3f5f\"},\"baxis\":{\"endlinecolor\":\"#2a3f5f\",\"gridcolor\":\"#C8D4E3\",\"linecolor\":\"#C8D4E3\",\"minorgridcolor\":\"#C8D4E3\",\"startlinecolor\":\"#2a3f5f\"},\"type\":\"carpet\"}],\"choropleth\":[{\"colorbar\":{\"outlinewidth\":0,\"ticks\":\"\"},\"type\":\"choropleth\"}],\"contourcarpet\":[{\"colorbar\":{\"outlinewidth\":0,\"ticks\":\"\"},\"type\":\"contourcarpet\"}],\"contour\":[{\"colorbar\":{\"outlinewidth\":0,\"ticks\":\"\"},\"colorscale\":[[0.0,\"#0d0887\"],[0.1111111111111111,\"#46039f\"],[0.2222222222222222,\"#7201a8\"],[0.3333333333333333,\"#9c179e\"],[0.4444444444444444,\"#bd3786\"],[0.5555555555555556,\"#d8576b\"],[0.6666666666666666,\"#ed7953\"],[0.7777777777777778,\"#fb9f3a\"],[0.8888888888888888,\"#fdca26\"],[1.0,\"#f0f921\"]],\"type\":\"contour\"}],\"heatmapgl\":[{\"colorbar\":{\"outlinewidth\":0,\"ticks\":\"\"},\"colorscale\":[[0.0,\"#0d0887\"],[0.1111111111111111,\"#46039f\"],[0.2222222222222222,\"#7201a8\"],[0.3333333333333333,\"#9c179e\"],[0.4444444444444444,\"#bd3786\"],[0.5555555555555556,\"#d8576b\"],[0.6666666666666666,\"#ed7953\"],[0.7777777777777778,\"#fb9f3a\"],[0.8888888888888888,\"#fdca26\"],[1.0,\"#f0f921\"]],\"type\":\"heatmapgl\"}],\"heatmap\":[{\"colorbar\":{\"outlinewidth\":0,\"ticks\":\"\"},\"colorscale\":[[0.0,\"#0d0887\"],[0.1111111111111111,\"#46039f\"],[0.2222222222222222,\"#7201a8\"],[0.3333333333333333,\"#9c179e\"],[0.4444444444444444,\"#bd3786\"],[0.5555555555555556,\"#d8576b\"],[0.6666666666666666,\"#ed7953\"],[0.7777777777777778,\"#fb9f3a\"],[0.8888888888888888,\"#fdca26\"],[1.0,\"#f0f921\"]],\"type\":\"heatmap\"}],\"histogram2dcontour\":[{\"colorbar\":{\"outlinewidth\":0,\"ticks\":\"\"},\"colorscale\":[[0.0,\"#0d0887\"],[0.1111111111111111,\"#46039f\"],[0.2222222222222222,\"#7201a8\"],[0.3333333333333333,\"#9c179e\"],[0.4444444444444444,\"#bd3786\"],[0.5555555555555556,\"#d8576b\"],[0.6666666666666666,\"#ed7953\"],[0.7777777777777778,\"#fb9f3a\"],[0.8888888888888888,\"#fdca26\"],[1.0,\"#f0f921\"]],\"type\":\"histogram2dcontour\"}],\"histogram2d\":[{\"colorbar\":{\"outlinewidth\":0,\"ticks\":\"\"},\"colorscale\":[[0.0,\"#0d0887\"],[0.1111111111111111,\"#46039f\"],[0.2222222222222222,\"#7201a8\"],[0.3333333333333333,\"#9c179e\"],[0.4444444444444444,\"#bd3786\"],[0.5555555555555556,\"#d8576b\"],[0.6666666666666666,\"#ed7953\"],[0.7777777777777778,\"#fb9f3a\"],[0.8888888888888888,\"#fdca26\"],[1.0,\"#f0f921\"]],\"type\":\"histogram2d\"}],\"histogram\":[{\"marker\":{\"pattern\":{\"fillmode\":\"overlay\",\"size\":10,\"solidity\":0.2}},\"type\":\"histogram\"}],\"mesh3d\":[{\"colorbar\":{\"outlinewidth\":0,\"ticks\":\"\"},\"type\":\"mesh3d\"}],\"parcoords\":[{\"line\":{\"colorbar\":{\"outlinewidth\":0,\"ticks\":\"\"}},\"type\":\"parcoords\"}],\"pie\":[{\"automargin\":true,\"type\":\"pie\"}],\"scatter3d\":[{\"line\":{\"colorbar\":{\"outlinewidth\":0,\"ticks\":\"\"}},\"marker\":{\"colorbar\":{\"outlinewidth\":0,\"ticks\":\"\"}},\"type\":\"scatter3d\"}],\"scattercarpet\":[{\"marker\":{\"colorbar\":{\"outlinewidth\":0,\"ticks\":\"\"}},\"type\":\"scattercarpet\"}],\"scattergeo\":[{\"marker\":{\"colorbar\":{\"outlinewidth\":0,\"ticks\":\"\"}},\"type\":\"scattergeo\"}],\"scattergl\":[{\"marker\":{\"colorbar\":{\"outlinewidth\":0,\"ticks\":\"\"}},\"type\":\"scattergl\"}],\"scattermapbox\":[{\"marker\":{\"colorbar\":{\"outlinewidth\":0,\"ticks\":\"\"}},\"type\":\"scattermapbox\"}],\"scatterpolargl\":[{\"marker\":{\"colorbar\":{\"outlinewidth\":0,\"ticks\":\"\"}},\"type\":\"scatterpolargl\"}],\"scatterpolar\":[{\"marker\":{\"colorbar\":{\"outlinewidth\":0,\"ticks\":\"\"}},\"type\":\"scatterpolar\"}],\"scatter\":[{\"fillpattern\":{\"fillmode\":\"overlay\",\"size\":10,\"solidity\":0.2},\"type\":\"scatter\"}],\"scatterternary\":[{\"marker\":{\"colorbar\":{\"outlinewidth\":0,\"ticks\":\"\"}},\"type\":\"scatterternary\"}],\"surface\":[{\"colorbar\":{\"outlinewidth\":0,\"ticks\":\"\"},\"colorscale\":[[0.0,\"#0d0887\"],[0.1111111111111111,\"#46039f\"],[0.2222222222222222,\"#7201a8\"],[0.3333333333333333,\"#9c179e\"],[0.4444444444444444,\"#bd3786\"],[0.5555555555555556,\"#d8576b\"],[0.6666666666666666,\"#ed7953\"],[0.7777777777777778,\"#fb9f3a\"],[0.8888888888888888,\"#fdca26\"],[1.0,\"#f0f921\"]],\"type\":\"surface\"}],\"table\":[{\"cells\":{\"fill\":{\"color\":\"#EBF0F8\"},\"line\":{\"color\":\"white\"}},\"header\":{\"fill\":{\"color\":\"#C8D4E3\"},\"line\":{\"color\":\"white\"}},\"type\":\"table\"}]},\"layout\":{\"annotationdefaults\":{\"arrowcolor\":\"#2a3f5f\",\"arrowhead\":0,\"arrowwidth\":1},\"autotypenumbers\":\"strict\",\"coloraxis\":{\"colorbar\":{\"outlinewidth\":0,\"ticks\":\"\"}},\"colorscale\":{\"diverging\":[[0,\"#8e0152\"],[0.1,\"#c51b7d\"],[0.2,\"#de77ae\"],[0.3,\"#f1b6da\"],[0.4,\"#fde0ef\"],[0.5,\"#f7f7f7\"],[0.6,\"#e6f5d0\"],[0.7,\"#b8e186\"],[0.8,\"#7fbc41\"],[0.9,\"#4d9221\"],[1,\"#276419\"]],\"sequential\":[[0.0,\"#0d0887\"],[0.1111111111111111,\"#46039f\"],[0.2222222222222222,\"#7201a8\"],[0.3333333333333333,\"#9c179e\"],[0.4444444444444444,\"#bd3786\"],[0.5555555555555556,\"#d8576b\"],[0.6666666666666666,\"#ed7953\"],[0.7777777777777778,\"#fb9f3a\"],[0.8888888888888888,\"#fdca26\"],[1.0,\"#f0f921\"]],\"sequentialminus\":[[0.0,\"#0d0887\"],[0.1111111111111111,\"#46039f\"],[0.2222222222222222,\"#7201a8\"],[0.3333333333333333,\"#9c179e\"],[0.4444444444444444,\"#bd3786\"],[0.5555555555555556,\"#d8576b\"],[0.6666666666666666,\"#ed7953\"],[0.7777777777777778,\"#fb9f3a\"],[0.8888888888888888,\"#fdca26\"],[1.0,\"#f0f921\"]]},\"colorway\":[\"#636efa\",\"#EF553B\",\"#00cc96\",\"#ab63fa\",\"#FFA15A\",\"#19d3f3\",\"#FF6692\",\"#B6E880\",\"#FF97FF\",\"#FECB52\"],\"font\":{\"color\":\"#2a3f5f\"},\"geo\":{\"bgcolor\":\"white\",\"lakecolor\":\"white\",\"landcolor\":\"white\",\"showlakes\":true,\"showland\":true,\"subunitcolor\":\"#C8D4E3\"},\"hoverlabel\":{\"align\":\"left\"},\"hovermode\":\"closest\",\"mapbox\":{\"style\":\"light\"},\"paper_bgcolor\":\"white\",\"plot_bgcolor\":\"white\",\"polar\":{\"angularaxis\":{\"gridcolor\":\"#EBF0F8\",\"linecolor\":\"#EBF0F8\",\"ticks\":\"\"},\"bgcolor\":\"white\",\"radialaxis\":{\"gridcolor\":\"#EBF0F8\",\"linecolor\":\"#EBF0F8\",\"ticks\":\"\"}},\"scene\":{\"xaxis\":{\"backgroundcolor\":\"white\",\"gridcolor\":\"#DFE8F3\",\"gridwidth\":2,\"linecolor\":\"#EBF0F8\",\"showbackground\":true,\"ticks\":\"\",\"zerolinecolor\":\"#EBF0F8\"},\"yaxis\":{\"backgroundcolor\":\"white\",\"gridcolor\":\"#DFE8F3\",\"gridwidth\":2,\"linecolor\":\"#EBF0F8\",\"showbackground\":true,\"ticks\":\"\",\"zerolinecolor\":\"#EBF0F8\"},\"zaxis\":{\"backgroundcolor\":\"white\",\"gridcolor\":\"#DFE8F3\",\"gridwidth\":2,\"linecolor\":\"#EBF0F8\",\"showbackground\":true,\"ticks\":\"\",\"zerolinecolor\":\"#EBF0F8\"}},\"shapedefaults\":{\"line\":{\"color\":\"#2a3f5f\"}},\"ternary\":{\"aaxis\":{\"gridcolor\":\"#DFE8F3\",\"linecolor\":\"#A2B1C6\",\"ticks\":\"\"},\"baxis\":{\"gridcolor\":\"#DFE8F3\",\"linecolor\":\"#A2B1C6\",\"ticks\":\"\"},\"bgcolor\":\"white\",\"caxis\":{\"gridcolor\":\"#DFE8F3\",\"linecolor\":\"#A2B1C6\",\"ticks\":\"\"}},\"title\":{\"x\":0.05},\"xaxis\":{\"automargin\":true,\"gridcolor\":\"#EBF0F8\",\"linecolor\":\"#EBF0F8\",\"ticks\":\"\",\"title\":{\"standoff\":15},\"zerolinecolor\":\"#EBF0F8\",\"zerolinewidth\":2},\"yaxis\":{\"automargin\":true,\"gridcolor\":\"#EBF0F8\",\"linecolor\":\"#EBF0F8\",\"ticks\":\"\",\"title\":{\"standoff\":15},\"zerolinecolor\":\"#EBF0F8\",\"zerolinewidth\":2}}},\"xaxis\":{\"anchor\":\"y\",\"domain\":[0.0,1.0],\"title\":{\"text\":\"Airline\"},\"tickangle\":-45},\"yaxis\":{\"anchor\":\"x\",\"domain\":[0.0,1.0],\"title\":{\"text\":\"Flights\"}},\"legend\":{\"title\":{\"text\":\"status\"},\"tracegroupgap\":0},\"title\":{\"text\":\"Flight Status Distribution by Airline (Top 10)\"},\"barmode\":\"relative\"},                        {\"responsive\": true}                    ).then(function(){\n",
              "                            \n",
              "var gd = document.getElementById('612f1b0e-aea3-4ab3-b633-7e28e3a6fbb9');\n",
              "var x = new MutationObserver(function (mutations, observer) {{\n",
              "        var display = window.getComputedStyle(gd).display;\n",
              "        if (!display || display === 'none') {{\n",
              "            console.log([gd, 'removed!']);\n",
              "            Plotly.purge(gd);\n",
              "            observer.disconnect();\n",
              "        }}\n",
              "}});\n",
              "\n",
              "// Listen for the removal of the full notebook cells\n",
              "var notebookContainer = gd.closest('#notebook-container');\n",
              "if (notebookContainer) {{\n",
              "    x.observe(notebookContainer, {childList: true});\n",
              "}}\n",
              "\n",
              "// Listen for the clearing of the current output cell\n",
              "var outputEl = gd.closest('.output');\n",
              "if (outputEl) {{\n",
              "    x.observe(outputEl, {childList: true});\n",
              "}}\n",
              "\n",
              "                        })                };                            </script>        </div>\n",
              "</body>\n",
              "</html>"
            ]
          },
          "metadata": {}
        }
      ]
    },
    {
      "cell_type": "markdown",
      "source": [
        "# Airline Coverage by Destination"
      ],
      "metadata": {
        "id": "41GXOf2y2N1Q"
      }
    },
    {
      "cell_type": "code",
      "source": [
        "cover = (df.groupBy(\"airline_name\",\"destination_airport_name\")\n",
        "           .agg(F.count(\"*\").alias(\"flights\"))\n",
        "           .toPandas())\n",
        "\n",
        "fig = px.treemap(cover, path=[\"airline_name\",\"destination_airport_name\"], values=\"flights\",\n",
        "                 title=\"Airline Coverage by Destination\")\n",
        "fig.update_layout(template=\"plotly_white\")\n",
        "fig.show()"
      ],
      "metadata": {
        "colab": {
          "base_uri": "https://localhost:8080/",
          "height": 542
        },
        "id": "1PjsVsiJwpB2",
        "outputId": "0d9d8a6a-3fb9-46d4-c865-74a1a47e600f"
      },
      "execution_count": 51,
      "outputs": [
        {
          "output_type": "display_data",
          "data": {
            "text/html": [
              "<html>\n",
              "<head><meta charset=\"utf-8\" /></head>\n",
              "<body>\n",
              "    <div>            <script src=\"https://cdnjs.cloudflare.com/ajax/libs/mathjax/2.7.5/MathJax.js?config=TeX-AMS-MML_SVG\"></script><script type=\"text/javascript\">if (window.MathJax && window.MathJax.Hub && window.MathJax.Hub.Config) {window.MathJax.Hub.Config({SVG: {font: \"STIX-Web\"}});}</script>                <script type=\"text/javascript\">window.PlotlyConfig = {MathJaxConfig: 'local'};</script>\n",
              "        <script charset=\"utf-8\" src=\"https://cdn.plot.ly/plotly-2.35.2.min.js\"></script>                <div id=\"f428faf8-528a-4cf6-a49a-69f8986f5e38\" class=\"plotly-graph-div\" style=\"height:525px; width:100%;\"></div>            <script type=\"text/javascript\">                                    window.PLOTLYENV=window.PLOTLYENV || {};                                    if (document.getElementById(\"f428faf8-528a-4cf6-a49a-69f8986f5e38\")) {                    Plotly.newPlot(                        \"f428faf8-528a-4cf6-a49a-69f8986f5e38\",                        [{\"branchvalues\":\"total\",\"domain\":{\"x\":[0.0,1.0],\"y\":[0.0,1.0]},\"hovertemplate\":\"labels=%{label}\\u003cbr\\u003eflights=%{value}\\u003cbr\\u003eparent=%{parent}\\u003cbr\\u003eid=%{id}\\u003cextra\\u003e\\u003c\\u002fextra\\u003e\",\"ids\":[\"Saudi Arabian\\u002fAbha\",\"flyadeal\\u002fAbha\",\"flynas\\u002fAbha\",\"Etihad\\u002fAbu Dhabi Island and Internal Islands City\",\"Etihad Airways\\u002fAbu Dhabi Island and Internal Islands City\",\"Saudi Arabian\\u002fAbu Dhabi Island and Internal Islands City\",\"flynas\\u002fAbu Dhabi Island and Internal Islands City\",\"KLM\\u002fAd Dammam\",\"Lufthansa\\u002fAd Dammam\",\"Saudi Arabian\\u002fAd Dammam\",\"flyadeal\\u002fAd Dammam\",\"flynas\\u002fAd Dammam\",\"Ethiopian\\u002fAddis Ababa\",\"flynas\\u002fAddis Ababa\",\"Saudi Arabian\\u002fAl Qaysumah\",\"Saudi Arabian\\u002fAl Ula\",\"flyadeal\\u002fAl Ula\",\"flynas\\u002fAl Ula\",\"Saudi Arabian\\u002fAl-Bakha\",\"flynas\\u002fAl-Bakha\",\"Saudi Arabian\\u002fAl-Jawf\",\"flynas\\u002fAl-Jawf\",\"Saudi Arabian\\u002fAl-Ula\",\"flynas\\u002fAl-Ula\",\"Air Arabia Egypt\\u002fAlexandria\",\"EgyptAir\\u002fAlexandria\",\"Saudi Arabian\\u002fAlexandria\",\"Royal Jordanian\\u002fAmman\",\"Saudi Arabian\\u002fAmman\",\"flyadeal\\u002fAmman\",\"flynas\\u002fAmman\",\"KLM\\u002fAmsterdam\",\"Saudi Arabian\\u002fAntalya\",\"flynas\\u002fAntalya\",\"Saudi Arabian\\u002fArar\",\"flyadeal\\u002fArar\",\"Air Cairo\\u002fAssiut\",\"flynas\\u002fAssiut\",\"Aegean\\u002fAthens\",\"Saudi Arabian\\u002fAthens\",\"AZAL Azerbaijan\\u002fBaku\",\"flyadeal\\u002fBaku\",\"flynas\\u002fBaku\",\"Saudi Arabian\\u002fBangkok\",\"Saudi Arabian\\u002fBarcelona\",\"flynas\\u002fBatumi\",\"VistaJet\\u002fBedford\",\"Air China\\u002fBeijing\",\"Saudi Arabian\\u002fBeijing\",\"Middle East\\u002fBeirut\",\"Saudi Arabian\\u002fBisha\",\"flynas\\u002fBodrum\",\"VistaJet\\u002fBoston\",\"Wizz Air\\u002fBudapest\",\"Saudi Arabian\\u002fBurayda\",\"Air Arabia Egypt\\u002fCairo\",\"Air Cairo\\u002fCairo\",\"EgyptAir\\u002fCairo\",\"Nesma\\u002fCairo\",\"Nile Air\\u002fCairo\",\"Saudi Arabian\\u002fCairo\",\"flyadeal\\u002fCairo\",\"flynas\\u002fCairo\",\"Air India Express\\u002fCalicut\",\"flynas\\u002fCalicut\",\"Royal Air Maroc\\u002fCasablanca\",\"Saudi Arabian\\u002fCasablanca\",\"FitsAir\\u002fColombo\",\"FlexFlight\\u002fColombo\",\"SriLankan\\u002fColombo\",\"China Southern\\u002fDalian\",\"flyadeal\\u002fDamascus\",\"flynas\\u002fDamascus\",\"Saudi Arabian\\u002fDammam\",\"Saudi Arabian\\u002fDawadmi\",\"Air India\\u002fDeli\",\"IndiGo\\u002fDeli\",\"Saudi Arabian\\u002fDeli\",\"flynas\\u002fDeli\",\"Biman Bangladesh\\u002fDhaka\",\"Saudi Arabian\\u002fDhaka\",\"US-Bangla\\u002fDhaka\",\"Qatar\\u002fDoha\",\"Qatar Airways\\u002fDoha\",\"Saudi Arabian\\u002fDoha\",\"flynas\\u002fDoha\",\"Emirates\\u002fDubai\",\"Saudi Arabian\\u002fDubai\",\"flyadeal\\u002fDubai\",\"flydubai\\u002fDubai\",\"flynas\\u002fDubai\",\"Saudi Arabian\\u002fDzhuf\",\"flynas\\u002fDzhuf\",\"Saudi Arabian\\u002fEl Alamein\",\"flynas\\u002fEl Alamein\",\"flynas\\u002fEntebbe\",\"Lufthansa\\u002fFrankfurt-am-Main\",\"Saudi Arabian\\u002fFrankfurt-am-Main\",\"Saudi Arabian\\u002fGeneva\",\"flynas\\u002fGeneva\",\"Saudi Arabian\\u002fGerayat\",\"flyadeal\\u002fGerayat\",\"China Southern\\u002fGuangzhou\",\"Saudi Arabian\\u002fGuangzhou\",\"China Eastern\\u002fHangzhou\",\"Cathay Pacific\\u002fHong Kong\",\"Unknown\\u002fPrivate owner\\u002fHouston\",\"EgyptAir\\u002fHurghada\",\"flynas\\u002fHurghada\",\"Air India Express\\u002fHyderabad\",\"IndiGo\\u002fHyderabad\",\"flynas\\u002fHyderabad\",\"Air Sial\\u002fIslamabad\",\"Airblue\\u002fIslamabad\",\"Pakistan International\\u002fIslamabad\",\"Saudi Arabian\\u002fIslamabad\",\"Serene Air\\u002fIslamabad\",\"flyadeal\\u002fIslamabad\",\"flynas\\u002fIslamabad\",\"AJet\\u002fIstanbul\",\"Pegasus\\u002fIstanbul\",\"Saudi Arabian\\u002fIstanbul\",\"Turkish\\u002fIstanbul\",\"flyadeal\\u002fIstanbul\",\"flynas\\u002fIstanbul\",\"Saudi Arabian\\u002fJakarta\",\"Saudi Arabian\\u002fJazan\",\"flyadeal\\u002fJazan\",\"flynas\\u002fJazan\",\"Malindo Air\\u002fJebel Ali\",\"flyadeal\\u002fJebel Ali\",\"flynas\\u002fJebel Ali\",\"Royal Air Maroc\\u002fJeddah\",\"Saudi Arabian\\u002fJeddah\",\"flyadeal\\u002fJeddah\",\"flynas\\u002fJeddah\",\"Ariana Afghan\\u002fKabul\",\"Kam Air\\u002fKabul\",\"flynas\\u002fKampala\",\"Air India Express\\u002fKannur International Airport\",\"Saudi Arabian\\u002fKarachi\",\"flyadeal\\u002fKarachi\",\"flynas\\u002fKarachi\",\"Himalaya\\u002fKathmandu\",\"Saudi Arabian\\u002fKaysuma\",\"Saudi Arabian\\u002fKhail\",\"flynas\\u002fKhail\",\"Air India Express\\u002fKochi\",\"Malindo Air\\u002fKochi\",\"Saudi Arabian\\u002fKochi\",\"Air India Express\\u002fKozhikode\",\"flynas\\u002fKozhikode\",\"flynas\\u002fKraków\",\"Saudi Arabian\\u002fKuala Lumpur\",\"Jazeera\\u002fKuwait City\",\"Kuwait\\u002fKuwait City\",\"Saudi Arabian\\u002fKuwait City\",\"flynas\\u002fKuwait City\",\"Air Sial\\u002fLahore\",\"Airblue\\u002fLahore\",\"Pakistan International\\u002fLahore\",\"Saudi Arabian\\u002fLahore\",\"flynas\\u002fLahore\",\"Saudi Arabian\\u002fLarnarca\",\"British\\u002fLondon\",\"Saudi Arabian\\u002fLondon\",\"Virgin Atlantic\\u002fLondon\",\"Saudi Arabian\\u002fLucknow\",\"flynas\\u002fLucknow\",\"Euro\\u002fMalé\",\"Saudi Arabian\\u002fMalé\",\"ZanAir\\u002fMalé\",\"Gulf Air\\u002fManama\",\"Saudi Arabian\\u002fManama\",\"flynas\\u002fManama\",\"Philippine\\u002fManila\",\"Saudi Arabian\\u002fManila\",\"Saudi Arabian\\u002fMedina\",\"flyadeal\\u002fMedina\",\"flynas\\u002fMedina\",\"Saudi Arabian\\u002fMilan\",\"flynas\\u002fMilan\",\"Saudi Arabian\\u002fMoscow\",\"flynas\\u002fMoscow\",\"Pakistan International\\u002fMultan\",\"Air India\\u002fMumbai\",\"IndiGo\\u002fMumbai\",\"Saudi Arabian\\u002fMumbai\",\"Starlight Airline\\u002fMumbai\",\"flynas\\u002fMumbai\",\"Saudi Arabian\\u002fMunich\",\"Oman Air\\u002fMuscat\",\"SalamAir\\u002fMuscat\",\"US-Bangla\\u002fMuscat\",\"Saudi Arabian\\u002fMálaga\",\"flynas\\u002fNairobi\",\"Saudi Arabian\\u002fNeom Bay Airport\",\"Air India\\u002fNew Delhi\",\"IndiGo\\u002fNew Delhi\",\"Saudi Arabian\\u002fNew Delhi\",\"flynas\\u002fNew Delhi\",\"QQE\\u002fNew York\",\"Saudi Arabian\\u002fNew York\",\"QQE\\u002fNewark\",\"Unknown\\u002fPrivate owner\\u002fNewark\",\"Saudi Arabian\\u002fNeyran\",\"flyadeal\\u002fNeyran\",\"flynas\\u002fNeyran\",\"Saudi Arabian\\u002fNice\",\"Air France\\u002fParis\",\"Saudi Arabian\\u002fParis\",\"Pakistan International\\u002fPeshawar\",\"Saudi Arabian\\u002fPeshawar\",\"Serene Air\\u002fPeshawar\",\"flyadeal\\u002fPeshawar\",\"Euro\\u002fPort Sudan\",\"Tarco Aviation\\u002fPort Sudan\",\"AIR X Charter\\u002fPortsmouth\",\"Unknown\\u002fPrivate owner\\u002fPortsmouth\",\"flynas\\u002fPrague\",\"Saudi Arabian\\u002fRafha\",\"Atlas Air\\u002fRaleigh\\u002fDurham\",\"Saudi Arabian\\u002fRio-Sidra\",\"flynas\\u002fRize\",\"ITA\\u002fRome\",\"Saudi Arabian\\u002fRome\",\"flyadeal\\u002fSalalah\",\"flynas\\u002fSalalah\",\"flynas\\u002fSalzburg\",\"flyadeal\\u002fSarajevo\",\"flynas\\u002fSarajevo\",\"China Eastern\\u002fShanghai\",\"Air Arabia\\u002fSharjah\",\"EgyptAir\\u002fSharm el Sheikh\",\"Saudi Arabian\\u002fSharm el Sheikh\",\"flyadeal\\u002fSharm el Sheikh\",\"flynas\\u002fSharm el Sheikh\",\"Saudi Arabian\\u002fSharura\",\"China Southern\\u002fShenzhen\",\"Pakistan International\\u002fSialkot\",\"flyadeal\\u002fSialkot\",\"Air Cairo\\u002fSohag\",\"Nesma\\u002fSohag\",\"flynas\\u002fSohag\",\"Saudi Arabian\\u002fTabuk\",\"flyadeal\\u002fTabuk\",\"flynas\\u002fTabuk\",\"Saudi Arabian\\u002fTaif\",\"flyadeal\\u002fTaif\",\"flynas\\u002fTaif\",\"flyadeal\\u002fTbilisi\",\"flynas\\u002fTbilisi\",\"flynas\\u002fTirana\",\"Air India Express\\u002fTiruvanantapura\",\"Pegasus\\u002fTrabzon\",\"flyadeal\\u002fTrabzon\",\"flynas\\u002fTrabzon\",\"Air India Express\\u002fTrivandrum\",\"Saudi Arabian\\u002fTurayf\",\"Saudi Arabian\\u002fVadi-ed-Davasir\",\"Saudi Arabian\\u002fVenice\",\"Saudi Arabian\\u002fVienna\",\"Wizz Air Malta\\u002fVienna\",\"flynas\\u002fVienna\",\"LOT - Polish\\u002fWarsaw\",\"QQE\\u002fWashington\",\"Saudi Arabian\\u002fWashington\",\"Unknown\\u002fPrivate owner\\u002fWashington\",\"VistaJet\\u002fWashington\",\"Unknown\\u002fPrivate owner\\u002fWesthampton Beach\",\"Saudi Arabian\\u002fYanbu\",\"Saudi Arabian\\u002fZurich\",\"AIR X Charter\",\"AJet\",\"AZAL Azerbaijan\",\"Aegean\",\"Air Arabia\",\"Air Arabia Egypt\",\"Air Cairo\",\"Air China\",\"Air France\",\"Air India\",\"Air India Express\",\"Air Sial\",\"Airblue\",\"Ariana Afghan\",\"Atlas Air\",\"Biman Bangladesh\",\"British\",\"Cathay Pacific\",\"China Eastern\",\"China Southern\",\"EgyptAir\",\"Emirates\",\"Ethiopian\",\"Etihad\",\"Etihad Airways\",\"Euro\",\"FitsAir\",\"FlexFlight\",\"Gulf Air\",\"Himalaya\",\"ITA\",\"IndiGo\",\"Jazeera\",\"KLM\",\"Kam Air\",\"Kuwait\",\"LOT - Polish\",\"Lufthansa\",\"Malindo Air\",\"Middle East\",\"Nesma\",\"Nile Air\",\"Oman Air\",\"Pakistan International\",\"Pegasus\",\"Philippine\",\"QQE\",\"Qatar\",\"Qatar Airways\",\"Royal Air Maroc\",\"Royal Jordanian\",\"SalamAir\",\"Saudi Arabian\",\"Serene Air\",\"SriLankan\",\"Starlight Airline\",\"Tarco Aviation\",\"Turkish\",\"US-Bangla\",\"Unknown\\u002fPrivate owner\",\"Virgin Atlantic\",\"VistaJet\",\"Wizz Air\",\"Wizz Air Malta\",\"ZanAir\",\"flyadeal\",\"flydubai\",\"flynas\"],\"labels\":[\"Abha\",\"Abha\",\"Abha\",\"Abu Dhabi Island and Internal Islands City\",\"Abu Dhabi Island and Internal Islands City\",\"Abu Dhabi Island and Internal Islands City\",\"Abu Dhabi Island and Internal Islands City\",\"Ad Dammam\",\"Ad Dammam\",\"Ad Dammam\",\"Ad Dammam\",\"Ad Dammam\",\"Addis Ababa\",\"Addis Ababa\",\"Al Qaysumah\",\"Al Ula\",\"Al Ula\",\"Al Ula\",\"Al-Bakha\",\"Al-Bakha\",\"Al-Jawf\",\"Al-Jawf\",\"Al-Ula\",\"Al-Ula\",\"Alexandria\",\"Alexandria\",\"Alexandria\",\"Amman\",\"Amman\",\"Amman\",\"Amman\",\"Amsterdam\",\"Antalya\",\"Antalya\",\"Arar\",\"Arar\",\"Assiut\",\"Assiut\",\"Athens\",\"Athens\",\"Baku\",\"Baku\",\"Baku\",\"Bangkok\",\"Barcelona\",\"Batumi\",\"Bedford\",\"Beijing\",\"Beijing\",\"Beirut\",\"Bisha\",\"Bodrum\",\"Boston\",\"Budapest\",\"Burayda\",\"Cairo\",\"Cairo\",\"Cairo\",\"Cairo\",\"Cairo\",\"Cairo\",\"Cairo\",\"Cairo\",\"Calicut\",\"Calicut\",\"Casablanca\",\"Casablanca\",\"Colombo\",\"Colombo\",\"Colombo\",\"Dalian\",\"Damascus\",\"Damascus\",\"Dammam\",\"Dawadmi\",\"Deli\",\"Deli\",\"Deli\",\"Deli\",\"Dhaka\",\"Dhaka\",\"Dhaka\",\"Doha\",\"Doha\",\"Doha\",\"Doha\",\"Dubai\",\"Dubai\",\"Dubai\",\"Dubai\",\"Dubai\",\"Dzhuf\",\"Dzhuf\",\"El Alamein\",\"El Alamein\",\"Entebbe\",\"Frankfurt-am-Main\",\"Frankfurt-am-Main\",\"Geneva\",\"Geneva\",\"Gerayat\",\"Gerayat\",\"Guangzhou\",\"Guangzhou\",\"Hangzhou\",\"Hong Kong\",\"Houston\",\"Hurghada\",\"Hurghada\",\"Hyderabad\",\"Hyderabad\",\"Hyderabad\",\"Islamabad\",\"Islamabad\",\"Islamabad\",\"Islamabad\",\"Islamabad\",\"Islamabad\",\"Islamabad\",\"Istanbul\",\"Istanbul\",\"Istanbul\",\"Istanbul\",\"Istanbul\",\"Istanbul\",\"Jakarta\",\"Jazan\",\"Jazan\",\"Jazan\",\"Jebel Ali\",\"Jebel Ali\",\"Jebel Ali\",\"Jeddah\",\"Jeddah\",\"Jeddah\",\"Jeddah\",\"Kabul\",\"Kabul\",\"Kampala\",\"Kannur International Airport\",\"Karachi\",\"Karachi\",\"Karachi\",\"Kathmandu\",\"Kaysuma\",\"Khail\",\"Khail\",\"Kochi\",\"Kochi\",\"Kochi\",\"Kozhikode\",\"Kozhikode\",\"Kraków\",\"Kuala Lumpur\",\"Kuwait City\",\"Kuwait City\",\"Kuwait City\",\"Kuwait City\",\"Lahore\",\"Lahore\",\"Lahore\",\"Lahore\",\"Lahore\",\"Larnarca\",\"London\",\"London\",\"London\",\"Lucknow\",\"Lucknow\",\"Malé\",\"Malé\",\"Malé\",\"Manama\",\"Manama\",\"Manama\",\"Manila\",\"Manila\",\"Medina\",\"Medina\",\"Medina\",\"Milan\",\"Milan\",\"Moscow\",\"Moscow\",\"Multan\",\"Mumbai\",\"Mumbai\",\"Mumbai\",\"Mumbai\",\"Mumbai\",\"Munich\",\"Muscat\",\"Muscat\",\"Muscat\",\"Málaga\",\"Nairobi\",\"Neom Bay Airport\",\"New Delhi\",\"New Delhi\",\"New Delhi\",\"New Delhi\",\"New York\",\"New York\",\"Newark\",\"Newark\",\"Neyran\",\"Neyran\",\"Neyran\",\"Nice\",\"Paris\",\"Paris\",\"Peshawar\",\"Peshawar\",\"Peshawar\",\"Peshawar\",\"Port Sudan\",\"Port Sudan\",\"Portsmouth\",\"Portsmouth\",\"Prague\",\"Rafha\",\"Raleigh\\u002fDurham\",\"Rio-Sidra\",\"Rize\",\"Rome\",\"Rome\",\"Salalah\",\"Salalah\",\"Salzburg\",\"Sarajevo\",\"Sarajevo\",\"Shanghai\",\"Sharjah\",\"Sharm el Sheikh\",\"Sharm el Sheikh\",\"Sharm el Sheikh\",\"Sharm el Sheikh\",\"Sharura\",\"Shenzhen\",\"Sialkot\",\"Sialkot\",\"Sohag\",\"Sohag\",\"Sohag\",\"Tabuk\",\"Tabuk\",\"Tabuk\",\"Taif\",\"Taif\",\"Taif\",\"Tbilisi\",\"Tbilisi\",\"Tirana\",\"Tiruvanantapura\",\"Trabzon\",\"Trabzon\",\"Trabzon\",\"Trivandrum\",\"Turayf\",\"Vadi-ed-Davasir\",\"Venice\",\"Vienna\",\"Vienna\",\"Vienna\",\"Warsaw\",\"Washington\",\"Washington\",\"Washington\",\"Washington\",\"Westhampton Beach\",\"Yanbu\",\"Zurich\",\"AIR X Charter\",\"AJet\",\"AZAL Azerbaijan\",\"Aegean\",\"Air Arabia\",\"Air Arabia Egypt\",\"Air Cairo\",\"Air China\",\"Air France\",\"Air India\",\"Air India Express\",\"Air Sial\",\"Airblue\",\"Ariana Afghan\",\"Atlas Air\",\"Biman Bangladesh\",\"British\",\"Cathay Pacific\",\"China Eastern\",\"China Southern\",\"EgyptAir\",\"Emirates\",\"Ethiopian\",\"Etihad\",\"Etihad Airways\",\"Euro\",\"FitsAir\",\"FlexFlight\",\"Gulf Air\",\"Himalaya\",\"ITA\",\"IndiGo\",\"Jazeera\",\"KLM\",\"Kam Air\",\"Kuwait\",\"LOT - Polish\",\"Lufthansa\",\"Malindo Air\",\"Middle East\",\"Nesma\",\"Nile Air\",\"Oman Air\",\"Pakistan International\",\"Pegasus\",\"Philippine\",\"QQE\",\"Qatar\",\"Qatar Airways\",\"Royal Air Maroc\",\"Royal Jordanian\",\"SalamAir\",\"Saudi Arabian\",\"Serene Air\",\"SriLankan\",\"Starlight Airline\",\"Tarco Aviation\",\"Turkish\",\"US-Bangla\",\"Unknown\\u002fPrivate owner\",\"Virgin Atlantic\",\"VistaJet\",\"Wizz Air\",\"Wizz Air Malta\",\"ZanAir\",\"flyadeal\",\"flydubai\",\"flynas\"],\"name\":\"\",\"parents\":[\"Saudi Arabian\",\"flyadeal\",\"flynas\",\"Etihad\",\"Etihad Airways\",\"Saudi Arabian\",\"flynas\",\"KLM\",\"Lufthansa\",\"Saudi Arabian\",\"flyadeal\",\"flynas\",\"Ethiopian\",\"flynas\",\"Saudi Arabian\",\"Saudi Arabian\",\"flyadeal\",\"flynas\",\"Saudi Arabian\",\"flynas\",\"Saudi Arabian\",\"flynas\",\"Saudi Arabian\",\"flynas\",\"Air Arabia Egypt\",\"EgyptAir\",\"Saudi Arabian\",\"Royal Jordanian\",\"Saudi Arabian\",\"flyadeal\",\"flynas\",\"KLM\",\"Saudi Arabian\",\"flynas\",\"Saudi Arabian\",\"flyadeal\",\"Air Cairo\",\"flynas\",\"Aegean\",\"Saudi Arabian\",\"AZAL Azerbaijan\",\"flyadeal\",\"flynas\",\"Saudi Arabian\",\"Saudi Arabian\",\"flynas\",\"VistaJet\",\"Air China\",\"Saudi Arabian\",\"Middle East\",\"Saudi Arabian\",\"flynas\",\"VistaJet\",\"Wizz Air\",\"Saudi Arabian\",\"Air Arabia Egypt\",\"Air Cairo\",\"EgyptAir\",\"Nesma\",\"Nile Air\",\"Saudi Arabian\",\"flyadeal\",\"flynas\",\"Air India Express\",\"flynas\",\"Royal Air Maroc\",\"Saudi Arabian\",\"FitsAir\",\"FlexFlight\",\"SriLankan\",\"China Southern\",\"flyadeal\",\"flynas\",\"Saudi Arabian\",\"Saudi Arabian\",\"Air India\",\"IndiGo\",\"Saudi Arabian\",\"flynas\",\"Biman Bangladesh\",\"Saudi Arabian\",\"US-Bangla\",\"Qatar\",\"Qatar Airways\",\"Saudi Arabian\",\"flynas\",\"Emirates\",\"Saudi Arabian\",\"flyadeal\",\"flydubai\",\"flynas\",\"Saudi Arabian\",\"flynas\",\"Saudi Arabian\",\"flynas\",\"flynas\",\"Lufthansa\",\"Saudi Arabian\",\"Saudi Arabian\",\"flynas\",\"Saudi Arabian\",\"flyadeal\",\"China Southern\",\"Saudi Arabian\",\"China Eastern\",\"Cathay Pacific\",\"Unknown\\u002fPrivate owner\",\"EgyptAir\",\"flynas\",\"Air India Express\",\"IndiGo\",\"flynas\",\"Air Sial\",\"Airblue\",\"Pakistan International\",\"Saudi Arabian\",\"Serene Air\",\"flyadeal\",\"flynas\",\"AJet\",\"Pegasus\",\"Saudi Arabian\",\"Turkish\",\"flyadeal\",\"flynas\",\"Saudi Arabian\",\"Saudi Arabian\",\"flyadeal\",\"flynas\",\"Malindo Air\",\"flyadeal\",\"flynas\",\"Royal Air Maroc\",\"Saudi Arabian\",\"flyadeal\",\"flynas\",\"Ariana Afghan\",\"Kam Air\",\"flynas\",\"Air India Express\",\"Saudi Arabian\",\"flyadeal\",\"flynas\",\"Himalaya\",\"Saudi Arabian\",\"Saudi Arabian\",\"flynas\",\"Air India Express\",\"Malindo Air\",\"Saudi Arabian\",\"Air India Express\",\"flynas\",\"flynas\",\"Saudi Arabian\",\"Jazeera\",\"Kuwait\",\"Saudi Arabian\",\"flynas\",\"Air Sial\",\"Airblue\",\"Pakistan International\",\"Saudi Arabian\",\"flynas\",\"Saudi Arabian\",\"British\",\"Saudi Arabian\",\"Virgin Atlantic\",\"Saudi Arabian\",\"flynas\",\"Euro\",\"Saudi Arabian\",\"ZanAir\",\"Gulf Air\",\"Saudi Arabian\",\"flynas\",\"Philippine\",\"Saudi Arabian\",\"Saudi Arabian\",\"flyadeal\",\"flynas\",\"Saudi Arabian\",\"flynas\",\"Saudi Arabian\",\"flynas\",\"Pakistan International\",\"Air India\",\"IndiGo\",\"Saudi Arabian\",\"Starlight Airline\",\"flynas\",\"Saudi Arabian\",\"Oman Air\",\"SalamAir\",\"US-Bangla\",\"Saudi Arabian\",\"flynas\",\"Saudi Arabian\",\"Air India\",\"IndiGo\",\"Saudi Arabian\",\"flynas\",\"QQE\",\"Saudi Arabian\",\"QQE\",\"Unknown\\u002fPrivate owner\",\"Saudi Arabian\",\"flyadeal\",\"flynas\",\"Saudi Arabian\",\"Air France\",\"Saudi Arabian\",\"Pakistan International\",\"Saudi Arabian\",\"Serene Air\",\"flyadeal\",\"Euro\",\"Tarco Aviation\",\"AIR X Charter\",\"Unknown\\u002fPrivate owner\",\"flynas\",\"Saudi Arabian\",\"Atlas Air\",\"Saudi Arabian\",\"flynas\",\"ITA\",\"Saudi Arabian\",\"flyadeal\",\"flynas\",\"flynas\",\"flyadeal\",\"flynas\",\"China Eastern\",\"Air Arabia\",\"EgyptAir\",\"Saudi Arabian\",\"flyadeal\",\"flynas\",\"Saudi Arabian\",\"China Southern\",\"Pakistan International\",\"flyadeal\",\"Air Cairo\",\"Nesma\",\"flynas\",\"Saudi Arabian\",\"flyadeal\",\"flynas\",\"Saudi Arabian\",\"flyadeal\",\"flynas\",\"flyadeal\",\"flynas\",\"flynas\",\"Air India Express\",\"Pegasus\",\"flyadeal\",\"flynas\",\"Air India Express\",\"Saudi Arabian\",\"Saudi Arabian\",\"Saudi Arabian\",\"Saudi Arabian\",\"Wizz Air Malta\",\"flynas\",\"LOT - Polish\",\"QQE\",\"Saudi Arabian\",\"Unknown\\u002fPrivate owner\",\"VistaJet\",\"Unknown\\u002fPrivate owner\",\"Saudi Arabian\",\"Saudi Arabian\",\"\",\"\",\"\",\"\",\"\",\"\",\"\",\"\",\"\",\"\",\"\",\"\",\"\",\"\",\"\",\"\",\"\",\"\",\"\",\"\",\"\",\"\",\"\",\"\",\"\",\"\",\"\",\"\",\"\",\"\",\"\",\"\",\"\",\"\",\"\",\"\",\"\",\"\",\"\",\"\",\"\",\"\",\"\",\"\",\"\",\"\",\"\",\"\",\"\",\"\",\"\",\"\",\"\",\"\",\"\",\"\",\"\",\"\",\"\",\"\",\"\",\"\",\"\",\"\",\"\",\"\",\"\",\"\"],\"values\":[3365,3281,2397,1539,109,402,153,133,379,4556,807,1518,481,325,982,238,9,125,826,279,1549,242,1,2,320,166,352,1022,900,380,1023,189,72,120,1373,377,149,65,215,198,155,128,363,214,45,229,2,186,90,879,1048,203,1,9,820,404,427,1709,644,823,1832,1282,2882,385,267,6,222,4,4,407,1,11,184,30,118,7,5,1,18,391,487,206,1803,233,398,604,1365,3359,2165,2059,3385,23,2,74,183,30,405,177,175,60,999,377,41,170,1,232,1,2,164,177,83,245,370,402,214,399,112,28,351,401,613,548,1260,633,628,55,3056,1097,1043,1,345,530,6,10915,9184,7833,46,108,167,113,357,118,175,104,3,1610,501,60,1,205,28,1,98,62,1163,801,714,410,184,156,156,342,294,72,711,1219,350,2,259,12,91,47,2198,389,470,384,332,3184,1956,1423,84,82,1,61,26,413,246,128,184,233,142,1230,168,22,70,8,453,234,379,125,393,2,177,1,1,1889,403,447,72,168,413,44,119,100,28,173,252,1,1,82,361,1,308,99,338,411,10,155,71,114,189,334,965,1,322,58,205,577,151,18,40,65,89,95,2395,1149,751,2129,566,622,128,340,95,1,4,161,677,59,406,412,65,132,8,79,209,1,172,1,1,1,693,179,1,401,155,215,965,724,641,186,168,654,823,554,558,46,1,391,711,232,335,193,1878,1365,481,1539,109,185,4,4,2198,104,338,713,1163,322,108,801,209,784,2,879,733,823,1230,458,617,384,4,1803,233,12,1022,168,60886,212,407,184,252,1260,228,5,350,4,9,8,47,24835,2059,33935],\"type\":\"treemap\"}],                        {\"template\":{\"data\":{\"barpolar\":[{\"marker\":{\"line\":{\"color\":\"white\",\"width\":0.5},\"pattern\":{\"fillmode\":\"overlay\",\"size\":10,\"solidity\":0.2}},\"type\":\"barpolar\"}],\"bar\":[{\"error_x\":{\"color\":\"#2a3f5f\"},\"error_y\":{\"color\":\"#2a3f5f\"},\"marker\":{\"line\":{\"color\":\"white\",\"width\":0.5},\"pattern\":{\"fillmode\":\"overlay\",\"size\":10,\"solidity\":0.2}},\"type\":\"bar\"}],\"carpet\":[{\"aaxis\":{\"endlinecolor\":\"#2a3f5f\",\"gridcolor\":\"#C8D4E3\",\"linecolor\":\"#C8D4E3\",\"minorgridcolor\":\"#C8D4E3\",\"startlinecolor\":\"#2a3f5f\"},\"baxis\":{\"endlinecolor\":\"#2a3f5f\",\"gridcolor\":\"#C8D4E3\",\"linecolor\":\"#C8D4E3\",\"minorgridcolor\":\"#C8D4E3\",\"startlinecolor\":\"#2a3f5f\"},\"type\":\"carpet\"}],\"choropleth\":[{\"colorbar\":{\"outlinewidth\":0,\"ticks\":\"\"},\"type\":\"choropleth\"}],\"contourcarpet\":[{\"colorbar\":{\"outlinewidth\":0,\"ticks\":\"\"},\"type\":\"contourcarpet\"}],\"contour\":[{\"colorbar\":{\"outlinewidth\":0,\"ticks\":\"\"},\"colorscale\":[[0.0,\"#0d0887\"],[0.1111111111111111,\"#46039f\"],[0.2222222222222222,\"#7201a8\"],[0.3333333333333333,\"#9c179e\"],[0.4444444444444444,\"#bd3786\"],[0.5555555555555556,\"#d8576b\"],[0.6666666666666666,\"#ed7953\"],[0.7777777777777778,\"#fb9f3a\"],[0.8888888888888888,\"#fdca26\"],[1.0,\"#f0f921\"]],\"type\":\"contour\"}],\"heatmapgl\":[{\"colorbar\":{\"outlinewidth\":0,\"ticks\":\"\"},\"colorscale\":[[0.0,\"#0d0887\"],[0.1111111111111111,\"#46039f\"],[0.2222222222222222,\"#7201a8\"],[0.3333333333333333,\"#9c179e\"],[0.4444444444444444,\"#bd3786\"],[0.5555555555555556,\"#d8576b\"],[0.6666666666666666,\"#ed7953\"],[0.7777777777777778,\"#fb9f3a\"],[0.8888888888888888,\"#fdca26\"],[1.0,\"#f0f921\"]],\"type\":\"heatmapgl\"}],\"heatmap\":[{\"colorbar\":{\"outlinewidth\":0,\"ticks\":\"\"},\"colorscale\":[[0.0,\"#0d0887\"],[0.1111111111111111,\"#46039f\"],[0.2222222222222222,\"#7201a8\"],[0.3333333333333333,\"#9c179e\"],[0.4444444444444444,\"#bd3786\"],[0.5555555555555556,\"#d8576b\"],[0.6666666666666666,\"#ed7953\"],[0.7777777777777778,\"#fb9f3a\"],[0.8888888888888888,\"#fdca26\"],[1.0,\"#f0f921\"]],\"type\":\"heatmap\"}],\"histogram2dcontour\":[{\"colorbar\":{\"outlinewidth\":0,\"ticks\":\"\"},\"colorscale\":[[0.0,\"#0d0887\"],[0.1111111111111111,\"#46039f\"],[0.2222222222222222,\"#7201a8\"],[0.3333333333333333,\"#9c179e\"],[0.4444444444444444,\"#bd3786\"],[0.5555555555555556,\"#d8576b\"],[0.6666666666666666,\"#ed7953\"],[0.7777777777777778,\"#fb9f3a\"],[0.8888888888888888,\"#fdca26\"],[1.0,\"#f0f921\"]],\"type\":\"histogram2dcontour\"}],\"histogram2d\":[{\"colorbar\":{\"outlinewidth\":0,\"ticks\":\"\"},\"colorscale\":[[0.0,\"#0d0887\"],[0.1111111111111111,\"#46039f\"],[0.2222222222222222,\"#7201a8\"],[0.3333333333333333,\"#9c179e\"],[0.4444444444444444,\"#bd3786\"],[0.5555555555555556,\"#d8576b\"],[0.6666666666666666,\"#ed7953\"],[0.7777777777777778,\"#fb9f3a\"],[0.8888888888888888,\"#fdca26\"],[1.0,\"#f0f921\"]],\"type\":\"histogram2d\"}],\"histogram\":[{\"marker\":{\"pattern\":{\"fillmode\":\"overlay\",\"size\":10,\"solidity\":0.2}},\"type\":\"histogram\"}],\"mesh3d\":[{\"colorbar\":{\"outlinewidth\":0,\"ticks\":\"\"},\"type\":\"mesh3d\"}],\"parcoords\":[{\"line\":{\"colorbar\":{\"outlinewidth\":0,\"ticks\":\"\"}},\"type\":\"parcoords\"}],\"pie\":[{\"automargin\":true,\"type\":\"pie\"}],\"scatter3d\":[{\"line\":{\"colorbar\":{\"outlinewidth\":0,\"ticks\":\"\"}},\"marker\":{\"colorbar\":{\"outlinewidth\":0,\"ticks\":\"\"}},\"type\":\"scatter3d\"}],\"scattercarpet\":[{\"marker\":{\"colorbar\":{\"outlinewidth\":0,\"ticks\":\"\"}},\"type\":\"scattercarpet\"}],\"scattergeo\":[{\"marker\":{\"colorbar\":{\"outlinewidth\":0,\"ticks\":\"\"}},\"type\":\"scattergeo\"}],\"scattergl\":[{\"marker\":{\"colorbar\":{\"outlinewidth\":0,\"ticks\":\"\"}},\"type\":\"scattergl\"}],\"scattermapbox\":[{\"marker\":{\"colorbar\":{\"outlinewidth\":0,\"ticks\":\"\"}},\"type\":\"scattermapbox\"}],\"scatterpolargl\":[{\"marker\":{\"colorbar\":{\"outlinewidth\":0,\"ticks\":\"\"}},\"type\":\"scatterpolargl\"}],\"scatterpolar\":[{\"marker\":{\"colorbar\":{\"outlinewidth\":0,\"ticks\":\"\"}},\"type\":\"scatterpolar\"}],\"scatter\":[{\"fillpattern\":{\"fillmode\":\"overlay\",\"size\":10,\"solidity\":0.2},\"type\":\"scatter\"}],\"scatterternary\":[{\"marker\":{\"colorbar\":{\"outlinewidth\":0,\"ticks\":\"\"}},\"type\":\"scatterternary\"}],\"surface\":[{\"colorbar\":{\"outlinewidth\":0,\"ticks\":\"\"},\"colorscale\":[[0.0,\"#0d0887\"],[0.1111111111111111,\"#46039f\"],[0.2222222222222222,\"#7201a8\"],[0.3333333333333333,\"#9c179e\"],[0.4444444444444444,\"#bd3786\"],[0.5555555555555556,\"#d8576b\"],[0.6666666666666666,\"#ed7953\"],[0.7777777777777778,\"#fb9f3a\"],[0.8888888888888888,\"#fdca26\"],[1.0,\"#f0f921\"]],\"type\":\"surface\"}],\"table\":[{\"cells\":{\"fill\":{\"color\":\"#EBF0F8\"},\"line\":{\"color\":\"white\"}},\"header\":{\"fill\":{\"color\":\"#C8D4E3\"},\"line\":{\"color\":\"white\"}},\"type\":\"table\"}]},\"layout\":{\"annotationdefaults\":{\"arrowcolor\":\"#2a3f5f\",\"arrowhead\":0,\"arrowwidth\":1},\"autotypenumbers\":\"strict\",\"coloraxis\":{\"colorbar\":{\"outlinewidth\":0,\"ticks\":\"\"}},\"colorscale\":{\"diverging\":[[0,\"#8e0152\"],[0.1,\"#c51b7d\"],[0.2,\"#de77ae\"],[0.3,\"#f1b6da\"],[0.4,\"#fde0ef\"],[0.5,\"#f7f7f7\"],[0.6,\"#e6f5d0\"],[0.7,\"#b8e186\"],[0.8,\"#7fbc41\"],[0.9,\"#4d9221\"],[1,\"#276419\"]],\"sequential\":[[0.0,\"#0d0887\"],[0.1111111111111111,\"#46039f\"],[0.2222222222222222,\"#7201a8\"],[0.3333333333333333,\"#9c179e\"],[0.4444444444444444,\"#bd3786\"],[0.5555555555555556,\"#d8576b\"],[0.6666666666666666,\"#ed7953\"],[0.7777777777777778,\"#fb9f3a\"],[0.8888888888888888,\"#fdca26\"],[1.0,\"#f0f921\"]],\"sequentialminus\":[[0.0,\"#0d0887\"],[0.1111111111111111,\"#46039f\"],[0.2222222222222222,\"#7201a8\"],[0.3333333333333333,\"#9c179e\"],[0.4444444444444444,\"#bd3786\"],[0.5555555555555556,\"#d8576b\"],[0.6666666666666666,\"#ed7953\"],[0.7777777777777778,\"#fb9f3a\"],[0.8888888888888888,\"#fdca26\"],[1.0,\"#f0f921\"]]},\"colorway\":[\"#636efa\",\"#EF553B\",\"#00cc96\",\"#ab63fa\",\"#FFA15A\",\"#19d3f3\",\"#FF6692\",\"#B6E880\",\"#FF97FF\",\"#FECB52\"],\"font\":{\"color\":\"#2a3f5f\"},\"geo\":{\"bgcolor\":\"white\",\"lakecolor\":\"white\",\"landcolor\":\"white\",\"showlakes\":true,\"showland\":true,\"subunitcolor\":\"#C8D4E3\"},\"hoverlabel\":{\"align\":\"left\"},\"hovermode\":\"closest\",\"mapbox\":{\"style\":\"light\"},\"paper_bgcolor\":\"white\",\"plot_bgcolor\":\"white\",\"polar\":{\"angularaxis\":{\"gridcolor\":\"#EBF0F8\",\"linecolor\":\"#EBF0F8\",\"ticks\":\"\"},\"bgcolor\":\"white\",\"radialaxis\":{\"gridcolor\":\"#EBF0F8\",\"linecolor\":\"#EBF0F8\",\"ticks\":\"\"}},\"scene\":{\"xaxis\":{\"backgroundcolor\":\"white\",\"gridcolor\":\"#DFE8F3\",\"gridwidth\":2,\"linecolor\":\"#EBF0F8\",\"showbackground\":true,\"ticks\":\"\",\"zerolinecolor\":\"#EBF0F8\"},\"yaxis\":{\"backgroundcolor\":\"white\",\"gridcolor\":\"#DFE8F3\",\"gridwidth\":2,\"linecolor\":\"#EBF0F8\",\"showbackground\":true,\"ticks\":\"\",\"zerolinecolor\":\"#EBF0F8\"},\"zaxis\":{\"backgroundcolor\":\"white\",\"gridcolor\":\"#DFE8F3\",\"gridwidth\":2,\"linecolor\":\"#EBF0F8\",\"showbackground\":true,\"ticks\":\"\",\"zerolinecolor\":\"#EBF0F8\"}},\"shapedefaults\":{\"line\":{\"color\":\"#2a3f5f\"}},\"ternary\":{\"aaxis\":{\"gridcolor\":\"#DFE8F3\",\"linecolor\":\"#A2B1C6\",\"ticks\":\"\"},\"baxis\":{\"gridcolor\":\"#DFE8F3\",\"linecolor\":\"#A2B1C6\",\"ticks\":\"\"},\"bgcolor\":\"white\",\"caxis\":{\"gridcolor\":\"#DFE8F3\",\"linecolor\":\"#A2B1C6\",\"ticks\":\"\"}},\"title\":{\"x\":0.05},\"xaxis\":{\"automargin\":true,\"gridcolor\":\"#EBF0F8\",\"linecolor\":\"#EBF0F8\",\"ticks\":\"\",\"title\":{\"standoff\":15},\"zerolinecolor\":\"#EBF0F8\",\"zerolinewidth\":2},\"yaxis\":{\"automargin\":true,\"gridcolor\":\"#EBF0F8\",\"linecolor\":\"#EBF0F8\",\"ticks\":\"\",\"title\":{\"standoff\":15},\"zerolinecolor\":\"#EBF0F8\",\"zerolinewidth\":2}}},\"legend\":{\"tracegroupgap\":0},\"title\":{\"text\":\"Airline Coverage by Destination\"}},                        {\"responsive\": true}                    ).then(function(){\n",
              "                            \n",
              "var gd = document.getElementById('f428faf8-528a-4cf6-a49a-69f8986f5e38');\n",
              "var x = new MutationObserver(function (mutations, observer) {{\n",
              "        var display = window.getComputedStyle(gd).display;\n",
              "        if (!display || display === 'none') {{\n",
              "            console.log([gd, 'removed!']);\n",
              "            Plotly.purge(gd);\n",
              "            observer.disconnect();\n",
              "        }}\n",
              "}});\n",
              "\n",
              "// Listen for the removal of the full notebook cells\n",
              "var notebookContainer = gd.closest('#notebook-container');\n",
              "if (notebookContainer) {{\n",
              "    x.observe(notebookContainer, {childList: true});\n",
              "}}\n",
              "\n",
              "// Listen for the clearing of the current output cell\n",
              "var outputEl = gd.closest('.output');\n",
              "if (outputEl) {{\n",
              "    x.observe(outputEl, {childList: true});\n",
              "}}\n",
              "\n",
              "                        })                };                            </script>        </div>\n",
              "</body>\n",
              "</html>"
            ]
          },
          "metadata": {}
        }
      ]
    },
    {
      "cell_type": "markdown",
      "source": [
        "# Top 20 Destinations by Flight Count"
      ],
      "metadata": {
        "id": "hR3gPWKo2amO"
      }
    },
    {
      "cell_type": "code",
      "source": [
        "from pyspark.sql import functions as F\n",
        "import plotly.express as px\n",
        "\n",
        "dest_counts = (df.groupBy(\"destination_airport_name\")\n",
        "                 .agg(F.count(\"*\").alias(\"num_flights\"))\n",
        "                 .orderBy(F.col(\"num_flights\").desc())\n",
        "                 .limit(20)\n",
        "                 .toPandas())\n",
        "\n",
        "fig = px.bar(dest_counts,\n",
        "             x=\"num_flights\", y=\"destination_airport_name\",\n",
        "             orientation=\"h\",\n",
        "             color=\"num_flights\",\n",
        "             color_continuous_scale=\"Blues\",\n",
        "             title=\"Top 20 Destinations by Flight Count\",\n",
        "             text=\"num_flights\")\n",
        "\n",
        "fig.update_traces(textposition=\"outside\")\n",
        "fig.update_layout(template=\"plotly_white\",\n",
        "                  xaxis_title=\"Flights\",\n",
        "                  yaxis_title=\"Destination\",\n",
        "                  yaxis=dict(autorange=\"reversed\"))\n",
        "fig.show()"
      ],
      "metadata": {
        "colab": {
          "base_uri": "https://localhost:8080/",
          "height": 542
        },
        "id": "LaWOFU99wpFd",
        "outputId": "d25ac740-4c3c-4d9f-b16f-6c62b75cb6ea"
      },
      "execution_count": 52,
      "outputs": [
        {
          "output_type": "display_data",
          "data": {
            "text/html": [
              "<html>\n",
              "<head><meta charset=\"utf-8\" /></head>\n",
              "<body>\n",
              "    <div>            <script src=\"https://cdnjs.cloudflare.com/ajax/libs/mathjax/2.7.5/MathJax.js?config=TeX-AMS-MML_SVG\"></script><script type=\"text/javascript\">if (window.MathJax && window.MathJax.Hub && window.MathJax.Hub.Config) {window.MathJax.Hub.Config({SVG: {font: \"STIX-Web\"}});}</script>                <script type=\"text/javascript\">window.PlotlyConfig = {MathJaxConfig: 'local'};</script>\n",
              "        <script charset=\"utf-8\" src=\"https://cdn.plot.ly/plotly-2.35.2.min.js\"></script>                <div id=\"600d9d22-b6c0-40ea-8507-2bfe3d2995b2\" class=\"plotly-graph-div\" style=\"height:525px; width:100%;\"></div>            <script type=\"text/javascript\">                                    window.PLOTLYENV=window.PLOTLYENV || {};                                    if (document.getElementById(\"600d9d22-b6c0-40ea-8507-2bfe3d2995b2\")) {                    Plotly.newPlot(                        \"600d9d22-b6c0-40ea-8507-2bfe3d2995b2\",                        [{\"alignmentgroup\":\"True\",\"hovertemplate\":\"num_flights=%{marker.color}\\u003cbr\\u003edestination_airport_name=%{y}\\u003cextra\\u003e\\u003c\\u002fextra\\u003e\",\"legendgroup\":\"\",\"marker\":{\"color\":[27938,12333,10003,9043,7393,6563,5196,4295,4083,3325,3317,3088,3057,3038,2739,2280,2203,2111,1876,1791],\"coloraxis\":\"coloraxis\",\"pattern\":{\"shape\":\"\"}},\"name\":\"\",\"offsetgroup\":\"\",\"orientation\":\"h\",\"showlegend\":false,\"text\":[27938.0,12333.0,10003.0,9043.0,7393.0,6563.0,5196.0,4295.0,4083.0,3325.0,3317.0,3088.0,3057.0,3038.0,2739.0,2280.0,2203.0,2111.0,1876.0,1791.0],\"textposition\":\"outside\",\"x\":[27938,12333,10003,9043,7393,6563,5196,4295,4083,3325,3317,3088,3057,3038,2739,2280,2203,2111,1876,1791],\"xaxis\":\"x\",\"y\":[\"Jeddah\",\"Dubai\",\"Cairo\",\"Abha\",\"Ad Dammam\",\"Medina\",\"Jazan\",\"Tabuk\",\"Istanbul\",\"Amman\",\"Taif\",\"Kuwait City\",\"Manama\",\"Doha\",\"Neyran\",\"London\",\"Abu Dhabi Island and Internal Islands City\",\"Khail\",\"Islamabad\",\"Al-Jawf\"],\"yaxis\":\"y\",\"type\":\"bar\"}],                        {\"template\":{\"data\":{\"barpolar\":[{\"marker\":{\"line\":{\"color\":\"white\",\"width\":0.5},\"pattern\":{\"fillmode\":\"overlay\",\"size\":10,\"solidity\":0.2}},\"type\":\"barpolar\"}],\"bar\":[{\"error_x\":{\"color\":\"#2a3f5f\"},\"error_y\":{\"color\":\"#2a3f5f\"},\"marker\":{\"line\":{\"color\":\"white\",\"width\":0.5},\"pattern\":{\"fillmode\":\"overlay\",\"size\":10,\"solidity\":0.2}},\"type\":\"bar\"}],\"carpet\":[{\"aaxis\":{\"endlinecolor\":\"#2a3f5f\",\"gridcolor\":\"#C8D4E3\",\"linecolor\":\"#C8D4E3\",\"minorgridcolor\":\"#C8D4E3\",\"startlinecolor\":\"#2a3f5f\"},\"baxis\":{\"endlinecolor\":\"#2a3f5f\",\"gridcolor\":\"#C8D4E3\",\"linecolor\":\"#C8D4E3\",\"minorgridcolor\":\"#C8D4E3\",\"startlinecolor\":\"#2a3f5f\"},\"type\":\"carpet\"}],\"choropleth\":[{\"colorbar\":{\"outlinewidth\":0,\"ticks\":\"\"},\"type\":\"choropleth\"}],\"contourcarpet\":[{\"colorbar\":{\"outlinewidth\":0,\"ticks\":\"\"},\"type\":\"contourcarpet\"}],\"contour\":[{\"colorbar\":{\"outlinewidth\":0,\"ticks\":\"\"},\"colorscale\":[[0.0,\"#0d0887\"],[0.1111111111111111,\"#46039f\"],[0.2222222222222222,\"#7201a8\"],[0.3333333333333333,\"#9c179e\"],[0.4444444444444444,\"#bd3786\"],[0.5555555555555556,\"#d8576b\"],[0.6666666666666666,\"#ed7953\"],[0.7777777777777778,\"#fb9f3a\"],[0.8888888888888888,\"#fdca26\"],[1.0,\"#f0f921\"]],\"type\":\"contour\"}],\"heatmapgl\":[{\"colorbar\":{\"outlinewidth\":0,\"ticks\":\"\"},\"colorscale\":[[0.0,\"#0d0887\"],[0.1111111111111111,\"#46039f\"],[0.2222222222222222,\"#7201a8\"],[0.3333333333333333,\"#9c179e\"],[0.4444444444444444,\"#bd3786\"],[0.5555555555555556,\"#d8576b\"],[0.6666666666666666,\"#ed7953\"],[0.7777777777777778,\"#fb9f3a\"],[0.8888888888888888,\"#fdca26\"],[1.0,\"#f0f921\"]],\"type\":\"heatmapgl\"}],\"heatmap\":[{\"colorbar\":{\"outlinewidth\":0,\"ticks\":\"\"},\"colorscale\":[[0.0,\"#0d0887\"],[0.1111111111111111,\"#46039f\"],[0.2222222222222222,\"#7201a8\"],[0.3333333333333333,\"#9c179e\"],[0.4444444444444444,\"#bd3786\"],[0.5555555555555556,\"#d8576b\"],[0.6666666666666666,\"#ed7953\"],[0.7777777777777778,\"#fb9f3a\"],[0.8888888888888888,\"#fdca26\"],[1.0,\"#f0f921\"]],\"type\":\"heatmap\"}],\"histogram2dcontour\":[{\"colorbar\":{\"outlinewidth\":0,\"ticks\":\"\"},\"colorscale\":[[0.0,\"#0d0887\"],[0.1111111111111111,\"#46039f\"],[0.2222222222222222,\"#7201a8\"],[0.3333333333333333,\"#9c179e\"],[0.4444444444444444,\"#bd3786\"],[0.5555555555555556,\"#d8576b\"],[0.6666666666666666,\"#ed7953\"],[0.7777777777777778,\"#fb9f3a\"],[0.8888888888888888,\"#fdca26\"],[1.0,\"#f0f921\"]],\"type\":\"histogram2dcontour\"}],\"histogram2d\":[{\"colorbar\":{\"outlinewidth\":0,\"ticks\":\"\"},\"colorscale\":[[0.0,\"#0d0887\"],[0.1111111111111111,\"#46039f\"],[0.2222222222222222,\"#7201a8\"],[0.3333333333333333,\"#9c179e\"],[0.4444444444444444,\"#bd3786\"],[0.5555555555555556,\"#d8576b\"],[0.6666666666666666,\"#ed7953\"],[0.7777777777777778,\"#fb9f3a\"],[0.8888888888888888,\"#fdca26\"],[1.0,\"#f0f921\"]],\"type\":\"histogram2d\"}],\"histogram\":[{\"marker\":{\"pattern\":{\"fillmode\":\"overlay\",\"size\":10,\"solidity\":0.2}},\"type\":\"histogram\"}],\"mesh3d\":[{\"colorbar\":{\"outlinewidth\":0,\"ticks\":\"\"},\"type\":\"mesh3d\"}],\"parcoords\":[{\"line\":{\"colorbar\":{\"outlinewidth\":0,\"ticks\":\"\"}},\"type\":\"parcoords\"}],\"pie\":[{\"automargin\":true,\"type\":\"pie\"}],\"scatter3d\":[{\"line\":{\"colorbar\":{\"outlinewidth\":0,\"ticks\":\"\"}},\"marker\":{\"colorbar\":{\"outlinewidth\":0,\"ticks\":\"\"}},\"type\":\"scatter3d\"}],\"scattercarpet\":[{\"marker\":{\"colorbar\":{\"outlinewidth\":0,\"ticks\":\"\"}},\"type\":\"scattercarpet\"}],\"scattergeo\":[{\"marker\":{\"colorbar\":{\"outlinewidth\":0,\"ticks\":\"\"}},\"type\":\"scattergeo\"}],\"scattergl\":[{\"marker\":{\"colorbar\":{\"outlinewidth\":0,\"ticks\":\"\"}},\"type\":\"scattergl\"}],\"scattermapbox\":[{\"marker\":{\"colorbar\":{\"outlinewidth\":0,\"ticks\":\"\"}},\"type\":\"scattermapbox\"}],\"scatterpolargl\":[{\"marker\":{\"colorbar\":{\"outlinewidth\":0,\"ticks\":\"\"}},\"type\":\"scatterpolargl\"}],\"scatterpolar\":[{\"marker\":{\"colorbar\":{\"outlinewidth\":0,\"ticks\":\"\"}},\"type\":\"scatterpolar\"}],\"scatter\":[{\"fillpattern\":{\"fillmode\":\"overlay\",\"size\":10,\"solidity\":0.2},\"type\":\"scatter\"}],\"scatterternary\":[{\"marker\":{\"colorbar\":{\"outlinewidth\":0,\"ticks\":\"\"}},\"type\":\"scatterternary\"}],\"surface\":[{\"colorbar\":{\"outlinewidth\":0,\"ticks\":\"\"},\"colorscale\":[[0.0,\"#0d0887\"],[0.1111111111111111,\"#46039f\"],[0.2222222222222222,\"#7201a8\"],[0.3333333333333333,\"#9c179e\"],[0.4444444444444444,\"#bd3786\"],[0.5555555555555556,\"#d8576b\"],[0.6666666666666666,\"#ed7953\"],[0.7777777777777778,\"#fb9f3a\"],[0.8888888888888888,\"#fdca26\"],[1.0,\"#f0f921\"]],\"type\":\"surface\"}],\"table\":[{\"cells\":{\"fill\":{\"color\":\"#EBF0F8\"},\"line\":{\"color\":\"white\"}},\"header\":{\"fill\":{\"color\":\"#C8D4E3\"},\"line\":{\"color\":\"white\"}},\"type\":\"table\"}]},\"layout\":{\"annotationdefaults\":{\"arrowcolor\":\"#2a3f5f\",\"arrowhead\":0,\"arrowwidth\":1},\"autotypenumbers\":\"strict\",\"coloraxis\":{\"colorbar\":{\"outlinewidth\":0,\"ticks\":\"\"}},\"colorscale\":{\"diverging\":[[0,\"#8e0152\"],[0.1,\"#c51b7d\"],[0.2,\"#de77ae\"],[0.3,\"#f1b6da\"],[0.4,\"#fde0ef\"],[0.5,\"#f7f7f7\"],[0.6,\"#e6f5d0\"],[0.7,\"#b8e186\"],[0.8,\"#7fbc41\"],[0.9,\"#4d9221\"],[1,\"#276419\"]],\"sequential\":[[0.0,\"#0d0887\"],[0.1111111111111111,\"#46039f\"],[0.2222222222222222,\"#7201a8\"],[0.3333333333333333,\"#9c179e\"],[0.4444444444444444,\"#bd3786\"],[0.5555555555555556,\"#d8576b\"],[0.6666666666666666,\"#ed7953\"],[0.7777777777777778,\"#fb9f3a\"],[0.8888888888888888,\"#fdca26\"],[1.0,\"#f0f921\"]],\"sequentialminus\":[[0.0,\"#0d0887\"],[0.1111111111111111,\"#46039f\"],[0.2222222222222222,\"#7201a8\"],[0.3333333333333333,\"#9c179e\"],[0.4444444444444444,\"#bd3786\"],[0.5555555555555556,\"#d8576b\"],[0.6666666666666666,\"#ed7953\"],[0.7777777777777778,\"#fb9f3a\"],[0.8888888888888888,\"#fdca26\"],[1.0,\"#f0f921\"]]},\"colorway\":[\"#636efa\",\"#EF553B\",\"#00cc96\",\"#ab63fa\",\"#FFA15A\",\"#19d3f3\",\"#FF6692\",\"#B6E880\",\"#FF97FF\",\"#FECB52\"],\"font\":{\"color\":\"#2a3f5f\"},\"geo\":{\"bgcolor\":\"white\",\"lakecolor\":\"white\",\"landcolor\":\"white\",\"showlakes\":true,\"showland\":true,\"subunitcolor\":\"#C8D4E3\"},\"hoverlabel\":{\"align\":\"left\"},\"hovermode\":\"closest\",\"mapbox\":{\"style\":\"light\"},\"paper_bgcolor\":\"white\",\"plot_bgcolor\":\"white\",\"polar\":{\"angularaxis\":{\"gridcolor\":\"#EBF0F8\",\"linecolor\":\"#EBF0F8\",\"ticks\":\"\"},\"bgcolor\":\"white\",\"radialaxis\":{\"gridcolor\":\"#EBF0F8\",\"linecolor\":\"#EBF0F8\",\"ticks\":\"\"}},\"scene\":{\"xaxis\":{\"backgroundcolor\":\"white\",\"gridcolor\":\"#DFE8F3\",\"gridwidth\":2,\"linecolor\":\"#EBF0F8\",\"showbackground\":true,\"ticks\":\"\",\"zerolinecolor\":\"#EBF0F8\"},\"yaxis\":{\"backgroundcolor\":\"white\",\"gridcolor\":\"#DFE8F3\",\"gridwidth\":2,\"linecolor\":\"#EBF0F8\",\"showbackground\":true,\"ticks\":\"\",\"zerolinecolor\":\"#EBF0F8\"},\"zaxis\":{\"backgroundcolor\":\"white\",\"gridcolor\":\"#DFE8F3\",\"gridwidth\":2,\"linecolor\":\"#EBF0F8\",\"showbackground\":true,\"ticks\":\"\",\"zerolinecolor\":\"#EBF0F8\"}},\"shapedefaults\":{\"line\":{\"color\":\"#2a3f5f\"}},\"ternary\":{\"aaxis\":{\"gridcolor\":\"#DFE8F3\",\"linecolor\":\"#A2B1C6\",\"ticks\":\"\"},\"baxis\":{\"gridcolor\":\"#DFE8F3\",\"linecolor\":\"#A2B1C6\",\"ticks\":\"\"},\"bgcolor\":\"white\",\"caxis\":{\"gridcolor\":\"#DFE8F3\",\"linecolor\":\"#A2B1C6\",\"ticks\":\"\"}},\"title\":{\"x\":0.05},\"xaxis\":{\"automargin\":true,\"gridcolor\":\"#EBF0F8\",\"linecolor\":\"#EBF0F8\",\"ticks\":\"\",\"title\":{\"standoff\":15},\"zerolinecolor\":\"#EBF0F8\",\"zerolinewidth\":2},\"yaxis\":{\"automargin\":true,\"gridcolor\":\"#EBF0F8\",\"linecolor\":\"#EBF0F8\",\"ticks\":\"\",\"title\":{\"standoff\":15},\"zerolinecolor\":\"#EBF0F8\",\"zerolinewidth\":2}}},\"xaxis\":{\"anchor\":\"y\",\"domain\":[0.0,1.0],\"title\":{\"text\":\"Flights\"}},\"yaxis\":{\"anchor\":\"x\",\"domain\":[0.0,1.0],\"title\":{\"text\":\"Destination\"},\"autorange\":\"reversed\"},\"coloraxis\":{\"colorbar\":{\"title\":{\"text\":\"num_flights\"}},\"colorscale\":[[0.0,\"rgb(247,251,255)\"],[0.125,\"rgb(222,235,247)\"],[0.25,\"rgb(198,219,239)\"],[0.375,\"rgb(158,202,225)\"],[0.5,\"rgb(107,174,214)\"],[0.625,\"rgb(66,146,198)\"],[0.75,\"rgb(33,113,181)\"],[0.875,\"rgb(8,81,156)\"],[1.0,\"rgb(8,48,107)\"]]},\"legend\":{\"tracegroupgap\":0},\"title\":{\"text\":\"Top 20 Destinations by Flight Count\"},\"barmode\":\"relative\"},                        {\"responsive\": true}                    ).then(function(){\n",
              "                            \n",
              "var gd = document.getElementById('600d9d22-b6c0-40ea-8507-2bfe3d2995b2');\n",
              "var x = new MutationObserver(function (mutations, observer) {{\n",
              "        var display = window.getComputedStyle(gd).display;\n",
              "        if (!display || display === 'none') {{\n",
              "            console.log([gd, 'removed!']);\n",
              "            Plotly.purge(gd);\n",
              "            observer.disconnect();\n",
              "        }}\n",
              "}});\n",
              "\n",
              "// Listen for the removal of the full notebook cells\n",
              "var notebookContainer = gd.closest('#notebook-container');\n",
              "if (notebookContainer) {{\n",
              "    x.observe(notebookContainer, {childList: true});\n",
              "}}\n",
              "\n",
              "// Listen for the clearing of the current output cell\n",
              "var outputEl = gd.closest('.output');\n",
              "if (outputEl) {{\n",
              "    x.observe(outputEl, {childList: true});\n",
              "}}\n",
              "\n",
              "                        })                };                            </script>        </div>\n",
              "</body>\n",
              "</html>"
            ]
          },
          "metadata": {}
        }
      ]
    },
    {
      "cell_type": "markdown",
      "source": [
        "# Flights by Terminal"
      ],
      "metadata": {
        "id": "tG-6XFyC2ZOw"
      }
    },
    {
      "cell_type": "code",
      "source": [
        "fig = px.pie(\n",
        "    term_counts,\n",
        "    names=\"movement_terminal\",\n",
        "    values=\"count\",\n",
        "    hole=0.4,\n",
        "    color_discrete_sequence=px.colors.sequential.Blues[::-1],  # reverse colors\n",
        "    title=\"Flights by Terminal\"\n",
        ")\n",
        "fig.update_traces(textinfo=\"percent+label\")\n",
        "fig.update_layout(template=\"plotly_white\")\n",
        "fig.show()"
      ],
      "metadata": {
        "colab": {
          "base_uri": "https://localhost:8080/",
          "height": 542
        },
        "id": "VDr8gQtMyn5Q",
        "outputId": "004d3c6f-f77d-4367-d033-43ff10518f12"
      },
      "execution_count": 54,
      "outputs": [
        {
          "output_type": "display_data",
          "data": {
            "text/html": [
              "<html>\n",
              "<head><meta charset=\"utf-8\" /></head>\n",
              "<body>\n",
              "    <div>            <script src=\"https://cdnjs.cloudflare.com/ajax/libs/mathjax/2.7.5/MathJax.js?config=TeX-AMS-MML_SVG\"></script><script type=\"text/javascript\">if (window.MathJax && window.MathJax.Hub && window.MathJax.Hub.Config) {window.MathJax.Hub.Config({SVG: {font: \"STIX-Web\"}});}</script>                <script type=\"text/javascript\">window.PlotlyConfig = {MathJaxConfig: 'local'};</script>\n",
              "        <script charset=\"utf-8\" src=\"https://cdn.plot.ly/plotly-2.35.2.min.js\"></script>                <div id=\"70c63097-efbe-46f1-b48a-e9fced0f86ec\" class=\"plotly-graph-div\" style=\"height:525px; width:100%;\"></div>            <script type=\"text/javascript\">                                    window.PLOTLYENV=window.PLOTLYENV || {};                                    if (document.getElementById(\"70c63097-efbe-46f1-b48a-e9fced0f86ec\")) {                    Plotly.newPlot(                        \"70c63097-efbe-46f1-b48a-e9fced0f86ec\",                        [{\"domain\":{\"x\":[0.0,1.0],\"y\":[0.0,1.0]},\"hole\":0.4,\"hovertemplate\":\"movement_terminal=%{label}\\u003cbr\\u003ecount=%{value}\\u003cextra\\u003e\\u003c\\u002fextra\\u003e\",\"labels\":[\"3\",\"5\",\"Unknown\",\"1\",\"4\",\"2\"],\"legendgroup\":\"\",\"name\":\"\",\"showlegend\":true,\"values\":[22415,80729,850,23420,21892,4002],\"type\":\"pie\",\"textinfo\":\"percent+label\"}],                        {\"template\":{\"data\":{\"barpolar\":[{\"marker\":{\"line\":{\"color\":\"white\",\"width\":0.5},\"pattern\":{\"fillmode\":\"overlay\",\"size\":10,\"solidity\":0.2}},\"type\":\"barpolar\"}],\"bar\":[{\"error_x\":{\"color\":\"#2a3f5f\"},\"error_y\":{\"color\":\"#2a3f5f\"},\"marker\":{\"line\":{\"color\":\"white\",\"width\":0.5},\"pattern\":{\"fillmode\":\"overlay\",\"size\":10,\"solidity\":0.2}},\"type\":\"bar\"}],\"carpet\":[{\"aaxis\":{\"endlinecolor\":\"#2a3f5f\",\"gridcolor\":\"#C8D4E3\",\"linecolor\":\"#C8D4E3\",\"minorgridcolor\":\"#C8D4E3\",\"startlinecolor\":\"#2a3f5f\"},\"baxis\":{\"endlinecolor\":\"#2a3f5f\",\"gridcolor\":\"#C8D4E3\",\"linecolor\":\"#C8D4E3\",\"minorgridcolor\":\"#C8D4E3\",\"startlinecolor\":\"#2a3f5f\"},\"type\":\"carpet\"}],\"choropleth\":[{\"colorbar\":{\"outlinewidth\":0,\"ticks\":\"\"},\"type\":\"choropleth\"}],\"contourcarpet\":[{\"colorbar\":{\"outlinewidth\":0,\"ticks\":\"\"},\"type\":\"contourcarpet\"}],\"contour\":[{\"colorbar\":{\"outlinewidth\":0,\"ticks\":\"\"},\"colorscale\":[[0.0,\"#0d0887\"],[0.1111111111111111,\"#46039f\"],[0.2222222222222222,\"#7201a8\"],[0.3333333333333333,\"#9c179e\"],[0.4444444444444444,\"#bd3786\"],[0.5555555555555556,\"#d8576b\"],[0.6666666666666666,\"#ed7953\"],[0.7777777777777778,\"#fb9f3a\"],[0.8888888888888888,\"#fdca26\"],[1.0,\"#f0f921\"]],\"type\":\"contour\"}],\"heatmapgl\":[{\"colorbar\":{\"outlinewidth\":0,\"ticks\":\"\"},\"colorscale\":[[0.0,\"#0d0887\"],[0.1111111111111111,\"#46039f\"],[0.2222222222222222,\"#7201a8\"],[0.3333333333333333,\"#9c179e\"],[0.4444444444444444,\"#bd3786\"],[0.5555555555555556,\"#d8576b\"],[0.6666666666666666,\"#ed7953\"],[0.7777777777777778,\"#fb9f3a\"],[0.8888888888888888,\"#fdca26\"],[1.0,\"#f0f921\"]],\"type\":\"heatmapgl\"}],\"heatmap\":[{\"colorbar\":{\"outlinewidth\":0,\"ticks\":\"\"},\"colorscale\":[[0.0,\"#0d0887\"],[0.1111111111111111,\"#46039f\"],[0.2222222222222222,\"#7201a8\"],[0.3333333333333333,\"#9c179e\"],[0.4444444444444444,\"#bd3786\"],[0.5555555555555556,\"#d8576b\"],[0.6666666666666666,\"#ed7953\"],[0.7777777777777778,\"#fb9f3a\"],[0.8888888888888888,\"#fdca26\"],[1.0,\"#f0f921\"]],\"type\":\"heatmap\"}],\"histogram2dcontour\":[{\"colorbar\":{\"outlinewidth\":0,\"ticks\":\"\"},\"colorscale\":[[0.0,\"#0d0887\"],[0.1111111111111111,\"#46039f\"],[0.2222222222222222,\"#7201a8\"],[0.3333333333333333,\"#9c179e\"],[0.4444444444444444,\"#bd3786\"],[0.5555555555555556,\"#d8576b\"],[0.6666666666666666,\"#ed7953\"],[0.7777777777777778,\"#fb9f3a\"],[0.8888888888888888,\"#fdca26\"],[1.0,\"#f0f921\"]],\"type\":\"histogram2dcontour\"}],\"histogram2d\":[{\"colorbar\":{\"outlinewidth\":0,\"ticks\":\"\"},\"colorscale\":[[0.0,\"#0d0887\"],[0.1111111111111111,\"#46039f\"],[0.2222222222222222,\"#7201a8\"],[0.3333333333333333,\"#9c179e\"],[0.4444444444444444,\"#bd3786\"],[0.5555555555555556,\"#d8576b\"],[0.6666666666666666,\"#ed7953\"],[0.7777777777777778,\"#fb9f3a\"],[0.8888888888888888,\"#fdca26\"],[1.0,\"#f0f921\"]],\"type\":\"histogram2d\"}],\"histogram\":[{\"marker\":{\"pattern\":{\"fillmode\":\"overlay\",\"size\":10,\"solidity\":0.2}},\"type\":\"histogram\"}],\"mesh3d\":[{\"colorbar\":{\"outlinewidth\":0,\"ticks\":\"\"},\"type\":\"mesh3d\"}],\"parcoords\":[{\"line\":{\"colorbar\":{\"outlinewidth\":0,\"ticks\":\"\"}},\"type\":\"parcoords\"}],\"pie\":[{\"automargin\":true,\"type\":\"pie\"}],\"scatter3d\":[{\"line\":{\"colorbar\":{\"outlinewidth\":0,\"ticks\":\"\"}},\"marker\":{\"colorbar\":{\"outlinewidth\":0,\"ticks\":\"\"}},\"type\":\"scatter3d\"}],\"scattercarpet\":[{\"marker\":{\"colorbar\":{\"outlinewidth\":0,\"ticks\":\"\"}},\"type\":\"scattercarpet\"}],\"scattergeo\":[{\"marker\":{\"colorbar\":{\"outlinewidth\":0,\"ticks\":\"\"}},\"type\":\"scattergeo\"}],\"scattergl\":[{\"marker\":{\"colorbar\":{\"outlinewidth\":0,\"ticks\":\"\"}},\"type\":\"scattergl\"}],\"scattermapbox\":[{\"marker\":{\"colorbar\":{\"outlinewidth\":0,\"ticks\":\"\"}},\"type\":\"scattermapbox\"}],\"scatterpolargl\":[{\"marker\":{\"colorbar\":{\"outlinewidth\":0,\"ticks\":\"\"}},\"type\":\"scatterpolargl\"}],\"scatterpolar\":[{\"marker\":{\"colorbar\":{\"outlinewidth\":0,\"ticks\":\"\"}},\"type\":\"scatterpolar\"}],\"scatter\":[{\"fillpattern\":{\"fillmode\":\"overlay\",\"size\":10,\"solidity\":0.2},\"type\":\"scatter\"}],\"scatterternary\":[{\"marker\":{\"colorbar\":{\"outlinewidth\":0,\"ticks\":\"\"}},\"type\":\"scatterternary\"}],\"surface\":[{\"colorbar\":{\"outlinewidth\":0,\"ticks\":\"\"},\"colorscale\":[[0.0,\"#0d0887\"],[0.1111111111111111,\"#46039f\"],[0.2222222222222222,\"#7201a8\"],[0.3333333333333333,\"#9c179e\"],[0.4444444444444444,\"#bd3786\"],[0.5555555555555556,\"#d8576b\"],[0.6666666666666666,\"#ed7953\"],[0.7777777777777778,\"#fb9f3a\"],[0.8888888888888888,\"#fdca26\"],[1.0,\"#f0f921\"]],\"type\":\"surface\"}],\"table\":[{\"cells\":{\"fill\":{\"color\":\"#EBF0F8\"},\"line\":{\"color\":\"white\"}},\"header\":{\"fill\":{\"color\":\"#C8D4E3\"},\"line\":{\"color\":\"white\"}},\"type\":\"table\"}]},\"layout\":{\"annotationdefaults\":{\"arrowcolor\":\"#2a3f5f\",\"arrowhead\":0,\"arrowwidth\":1},\"autotypenumbers\":\"strict\",\"coloraxis\":{\"colorbar\":{\"outlinewidth\":0,\"ticks\":\"\"}},\"colorscale\":{\"diverging\":[[0,\"#8e0152\"],[0.1,\"#c51b7d\"],[0.2,\"#de77ae\"],[0.3,\"#f1b6da\"],[0.4,\"#fde0ef\"],[0.5,\"#f7f7f7\"],[0.6,\"#e6f5d0\"],[0.7,\"#b8e186\"],[0.8,\"#7fbc41\"],[0.9,\"#4d9221\"],[1,\"#276419\"]],\"sequential\":[[0.0,\"#0d0887\"],[0.1111111111111111,\"#46039f\"],[0.2222222222222222,\"#7201a8\"],[0.3333333333333333,\"#9c179e\"],[0.4444444444444444,\"#bd3786\"],[0.5555555555555556,\"#d8576b\"],[0.6666666666666666,\"#ed7953\"],[0.7777777777777778,\"#fb9f3a\"],[0.8888888888888888,\"#fdca26\"],[1.0,\"#f0f921\"]],\"sequentialminus\":[[0.0,\"#0d0887\"],[0.1111111111111111,\"#46039f\"],[0.2222222222222222,\"#7201a8\"],[0.3333333333333333,\"#9c179e\"],[0.4444444444444444,\"#bd3786\"],[0.5555555555555556,\"#d8576b\"],[0.6666666666666666,\"#ed7953\"],[0.7777777777777778,\"#fb9f3a\"],[0.8888888888888888,\"#fdca26\"],[1.0,\"#f0f921\"]]},\"colorway\":[\"#636efa\",\"#EF553B\",\"#00cc96\",\"#ab63fa\",\"#FFA15A\",\"#19d3f3\",\"#FF6692\",\"#B6E880\",\"#FF97FF\",\"#FECB52\"],\"font\":{\"color\":\"#2a3f5f\"},\"geo\":{\"bgcolor\":\"white\",\"lakecolor\":\"white\",\"landcolor\":\"white\",\"showlakes\":true,\"showland\":true,\"subunitcolor\":\"#C8D4E3\"},\"hoverlabel\":{\"align\":\"left\"},\"hovermode\":\"closest\",\"mapbox\":{\"style\":\"light\"},\"paper_bgcolor\":\"white\",\"plot_bgcolor\":\"white\",\"polar\":{\"angularaxis\":{\"gridcolor\":\"#EBF0F8\",\"linecolor\":\"#EBF0F8\",\"ticks\":\"\"},\"bgcolor\":\"white\",\"radialaxis\":{\"gridcolor\":\"#EBF0F8\",\"linecolor\":\"#EBF0F8\",\"ticks\":\"\"}},\"scene\":{\"xaxis\":{\"backgroundcolor\":\"white\",\"gridcolor\":\"#DFE8F3\",\"gridwidth\":2,\"linecolor\":\"#EBF0F8\",\"showbackground\":true,\"ticks\":\"\",\"zerolinecolor\":\"#EBF0F8\"},\"yaxis\":{\"backgroundcolor\":\"white\",\"gridcolor\":\"#DFE8F3\",\"gridwidth\":2,\"linecolor\":\"#EBF0F8\",\"showbackground\":true,\"ticks\":\"\",\"zerolinecolor\":\"#EBF0F8\"},\"zaxis\":{\"backgroundcolor\":\"white\",\"gridcolor\":\"#DFE8F3\",\"gridwidth\":2,\"linecolor\":\"#EBF0F8\",\"showbackground\":true,\"ticks\":\"\",\"zerolinecolor\":\"#EBF0F8\"}},\"shapedefaults\":{\"line\":{\"color\":\"#2a3f5f\"}},\"ternary\":{\"aaxis\":{\"gridcolor\":\"#DFE8F3\",\"linecolor\":\"#A2B1C6\",\"ticks\":\"\"},\"baxis\":{\"gridcolor\":\"#DFE8F3\",\"linecolor\":\"#A2B1C6\",\"ticks\":\"\"},\"bgcolor\":\"white\",\"caxis\":{\"gridcolor\":\"#DFE8F3\",\"linecolor\":\"#A2B1C6\",\"ticks\":\"\"}},\"title\":{\"x\":0.05},\"xaxis\":{\"automargin\":true,\"gridcolor\":\"#EBF0F8\",\"linecolor\":\"#EBF0F8\",\"ticks\":\"\",\"title\":{\"standoff\":15},\"zerolinecolor\":\"#EBF0F8\",\"zerolinewidth\":2},\"yaxis\":{\"automargin\":true,\"gridcolor\":\"#EBF0F8\",\"linecolor\":\"#EBF0F8\",\"ticks\":\"\",\"title\":{\"standoff\":15},\"zerolinecolor\":\"#EBF0F8\",\"zerolinewidth\":2}}},\"legend\":{\"tracegroupgap\":0},\"title\":{\"text\":\"Flights by Terminal\"},\"piecolorway\":[\"rgb(8,48,107)\",\"rgb(8,81,156)\",\"rgb(33,113,181)\",\"rgb(66,146,198)\",\"rgb(107,174,214)\",\"rgb(158,202,225)\",\"rgb(198,219,239)\",\"rgb(222,235,247)\",\"rgb(247,251,255)\"]},                        {\"responsive\": true}                    ).then(function(){\n",
              "                            \n",
              "var gd = document.getElementById('70c63097-efbe-46f1-b48a-e9fced0f86ec');\n",
              "var x = new MutationObserver(function (mutations, observer) {{\n",
              "        var display = window.getComputedStyle(gd).display;\n",
              "        if (!display || display === 'none') {{\n",
              "            console.log([gd, 'removed!']);\n",
              "            Plotly.purge(gd);\n",
              "            observer.disconnect();\n",
              "        }}\n",
              "}});\n",
              "\n",
              "// Listen for the removal of the full notebook cells\n",
              "var notebookContainer = gd.closest('#notebook-container');\n",
              "if (notebookContainer) {{\n",
              "    x.observe(notebookContainer, {childList: true});\n",
              "}}\n",
              "\n",
              "// Listen for the clearing of the current output cell\n",
              "var outputEl = gd.closest('.output');\n",
              "if (outputEl) {{\n",
              "    x.observe(outputEl, {childList: true});\n",
              "}}\n",
              "\n",
              "                        })                };                            </script>        </div>\n",
              "</body>\n",
              "</html>"
            ]
          },
          "metadata": {}
        }
      ]
    }
  ]
}